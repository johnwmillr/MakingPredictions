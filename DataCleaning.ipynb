{
 "cells": [
  {
   "cell_type": "markdown",
   "metadata": {},
   "source": [
    "# Making predictions\n",
    "Predicting artist gender and genre from song lyrics\n",
    "A follow-up to [*Trucks and Beer*](http://www.johnwmillr.com/trucks-and-beer/), my textual analysis of 12k+ country song lyrics\n",
    "\n",
    "---\n",
    "\n",
    "## Cleaning + Formatting Data"
   ]
  },
  {
   "cell_type": "code",
   "execution_count": 1,
   "metadata": {},
   "outputs": [],
   "source": [
    "import numpy as np\n",
    "import pandas as pd\n",
    "import matplotlib.pyplot as plt\n",
    "import json\n",
    "import time\n",
    "import re\n",
    "from collections import Counter\n",
    "\n",
    "fs = 16 # fontsize"
   ]
  },
  {
   "cell_type": "markdown",
   "metadata": {},
   "source": [
    "---\n",
    "## Load the data"
   ]
  },
  {
   "cell_type": "code",
   "execution_count": 32,
   "metadata": {},
   "outputs": [],
   "source": [
    "artists = json.load(open('data/lyrics/rap_rock_country.json'))"
   ]
  },
  {
   "cell_type": "code",
   "execution_count": 37,
   "metadata": {},
   "outputs": [
    {
     "name": "stdout",
     "output_type": "stream",
     "text": [
      "You have lyrics from 303 artists.\n",
      "Female: 79, male: 222\n",
      "Database contains 55013 songs.\n"
     ]
    }
   ],
   "source": [
    "# Gender\n",
    "labels_gender = np.array([a['gender'] for a in artists])\n",
    "mask_female = np.array([g=='female' for g in labels_gender])\n",
    "mask_male   = np.array([g=='male'   for g in labels_gender])\n",
    "print(\"You have lyrics from {} artists.\\nFemale: {}, male: {}\"\n",
    "      .format(len(artists), (labels_gender=='female').sum(), (labels_gender=='male').sum()))\n",
    "\n",
    "def song_is_lyrics(title):\n",
    "    \"\"\"Returns False if song is not actually song lyrics\"\"\"\n",
    "    regex = re.compile(\n",
    "        r\"(tracklist)|(track list)|(album art(work)?)|(liner notes)|(booklet)|(credits)|(remix)|(interview)|(skit)|(a collection)\", re.IGNORECASE)\n",
    "    return not regex.search(title)\n",
    "\n",
    "# Add all song lyrics to a single list\n",
    "all_songs, genres = [], []\n",
    "for artist, gender in zip(artists, labels_gender):\n",
    "    for song in artist['songs']:        \n",
    "        song['gender'] = gender\n",
    "        if len(song['lyrics'].split(' ')) > 10 and song_is_lyrics(song['title']):\n",
    "            all_songs.append(song)\n",
    "            if song['genre'] not in genres:\n",
    "                genres.append(song['genre'])\n",
    "              \n",
    "song_count = len(all_songs)\n",
    "print(\"Database contains {} songs.\".format(song_count))\n",
    "\n",
    "# Store all lyrics in a single string\n",
    "all_lyrics = \" \".join([song['lyrics'] for song in all_songs])"
   ]
  },
  {
   "cell_type": "code",
   "execution_count": 38,
   "metadata": {},
   "outputs": [],
   "source": [
    "# Save the cleaned song lyrics in JSON format\n",
    "with open('data/lyrics/all_songs.json', 'w') as outfile:\n",
    "    json.dump(all_songs, outfile)"
   ]
  },
  {
   "cell_type": "markdown",
   "metadata": {},
   "source": [
    "### Read in the cleaned JSON data as a DataFrame"
   ]
  },
  {
   "cell_type": "code",
   "execution_count": 2,
   "metadata": {},
   "outputs": [],
   "source": [
    "songs = pd.read_json('./data/lyrics/all_songs.json')"
   ]
  },
  {
   "cell_type": "code",
   "execution_count": null,
   "metadata": {},
   "outputs": [],
   "source": []
  }
 ],
 "metadata": {
  "kernelspec": {
   "display_name": "Python 3",
   "language": "python",
   "name": "python3"
  },
  "language_info": {
   "codemirror_mode": {
    "name": "ipython",
    "version": 3
   },
   "file_extension": ".py",
   "mimetype": "text/x-python",
   "name": "python",
   "nbconvert_exporter": "python",
   "pygments_lexer": "ipython3",
   "version": "3.6.5"
  }
 },
 "nbformat": 4,
 "nbformat_minor": 2
}
