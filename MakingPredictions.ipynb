{
 "cells": [
  {
   "cell_type": "markdown",
   "metadata": {},
   "source": [
    "# Making predictions\n",
    "Predicting artist gender and genre from song lyrics\n",
    "A follow-up to [*Trucks and Beer*](http://www.johnwmillr.com/trucks-and-beer/), my textual analysis of 12k+ country song lyrics\n",
    "\n",
    "---"
   ]
  },
  {
   "cell_type": "code",
   "execution_count": 2,
   "metadata": {},
   "outputs": [],
   "source": [
    "import numpy as np\n",
    "import pandas as pd\n",
    "import matplotlib.pyplot as plt\n",
    "import json\n",
    "import time\n",
    "import re\n",
    "from collections import Counter\n",
    "\n",
    "fs = 16 # fontsize"
   ]
  },
  {
   "cell_type": "markdown",
   "metadata": {},
   "source": [
    "---\n",
    "## Load the data"
   ]
  },
  {
   "cell_type": "code",
   "execution_count": 3,
   "metadata": {},
   "outputs": [],
   "source": [
    "songs = pd.read_json('./data/lyrics/all_songs.json')"
   ]
  },
  {
   "cell_type": "code",
   "execution_count": 4,
   "metadata": {},
   "outputs": [],
   "source": [
    "artist = songs[songs.artist=='The Beatles']"
   ]
  },
  {
   "cell_type": "code",
   "execution_count": 5,
   "metadata": {},
   "outputs": [
    {
     "data": {
      "text/html": [
       "<div>\n",
       "<style scoped>\n",
       "    .dataframe tbody tr th:only-of-type {\n",
       "        vertical-align: middle;\n",
       "    }\n",
       "\n",
       "    .dataframe tbody tr th {\n",
       "        vertical-align: top;\n",
       "    }\n",
       "\n",
       "    .dataframe thead th {\n",
       "        text-align: right;\n",
       "    }\n",
       "</style>\n",
       "<table border=\"1\" class=\"dataframe\">\n",
       "  <thead>\n",
       "    <tr style=\"text-align: right;\">\n",
       "      <th></th>\n",
       "      <th>album</th>\n",
       "      <th>artist</th>\n",
       "      <th>gender</th>\n",
       "      <th>genre</th>\n",
       "      <th>image</th>\n",
       "      <th>lyrics</th>\n",
       "      <th>raw</th>\n",
       "      <th>title</th>\n",
       "      <th>year</th>\n",
       "    </tr>\n",
       "  </thead>\n",
       "  <tbody>\n",
       "    <tr>\n",
       "      <th>34290</th>\n",
       "      <td>Let It Be</td>\n",
       "      <td>The Beatles</td>\n",
       "      <td>male</td>\n",
       "      <td>rock</td>\n",
       "      <td>https://images.genius.com/1f61e7c20f3ec7d82362...</td>\n",
       "      <td>Words are flowing out like endless rain into a...</td>\n",
       "      <td>{'annotation_count': 13, 'api_path': '/songs/1...</td>\n",
       "      <td>Across the Universe</td>\n",
       "      <td>1969-12-12</td>\n",
       "    </tr>\n",
       "    <tr>\n",
       "      <th>34291</th>\n",
       "      <td>Help!</td>\n",
       "      <td>The Beatles</td>\n",
       "      <td>male</td>\n",
       "      <td>rock</td>\n",
       "      <td>https://images.genius.com/adbf27acc77a06acfa4a...</td>\n",
       "      <td>They're gonna put me in the movies\\nThey're go...</td>\n",
       "      <td>{'annotation_count': 5, 'api_path': '/songs/12...</td>\n",
       "      <td>Act Naturally</td>\n",
       "      <td>1965-08-06</td>\n",
       "    </tr>\n",
       "    <tr>\n",
       "      <th>34292</th>\n",
       "      <td>Sgt. Pepper's Lonely Hearts Club Band</td>\n",
       "      <td>The Beatles</td>\n",
       "      <td>male</td>\n",
       "      <td>rock</td>\n",
       "      <td>https://images.genius.com/0e36e5abf5d93b95a6d8...</td>\n",
       "      <td>I read the news today, oh boy\\nAbout a lucky m...</td>\n",
       "      <td>{'annotation_count': 17, 'api_path': '/songs/1...</td>\n",
       "      <td>A Day in the Life</td>\n",
       "      <td>1967-06-01</td>\n",
       "    </tr>\n",
       "    <tr>\n",
       "      <th>34293</th>\n",
       "      <td>A Hard Day's Night</td>\n",
       "      <td>The Beatles</td>\n",
       "      <td>male</td>\n",
       "      <td>rock</td>\n",
       "      <td>https://images.genius.com/68c11c7f5b6b66194d77...</td>\n",
       "      <td>It's been a hard day's night\\nAnd I've been wo...</td>\n",
       "      <td>{'annotation_count': 13, 'api_path': '/songs/1...</td>\n",
       "      <td>A Hard Day's Night</td>\n",
       "      <td>1964-07-10</td>\n",
       "    </tr>\n",
       "    <tr>\n",
       "      <th>34294</th>\n",
       "      <td>A Hard Day's Night</td>\n",
       "      <td>The Beatles</td>\n",
       "      <td>male</td>\n",
       "      <td>rock</td>\n",
       "      <td>https://images.genius.com/68c11c7f5b6b66194d77...</td>\n",
       "      <td>Side 11. \\t\"A Hard Day's Night\"\\n2. \\t\"Tell Me...</td>\n",
       "      <td>{'annotation_count': 0, 'api_path': '/songs/14...</td>\n",
       "      <td>A Hard Day's Night (U.S. version)</td>\n",
       "      <td>None</td>\n",
       "    </tr>\n",
       "  </tbody>\n",
       "</table>\n",
       "</div>"
      ],
      "text/plain": [
       "                                       album       artist gender genre  \\\n",
       "34290                              Let It Be  The Beatles   male  rock   \n",
       "34291                                  Help!  The Beatles   male  rock   \n",
       "34292  Sgt. Pepper's Lonely Hearts Club Band  The Beatles   male  rock   \n",
       "34293                     A Hard Day's Night  The Beatles   male  rock   \n",
       "34294                     A Hard Day's Night  The Beatles   male  rock   \n",
       "\n",
       "                                                   image  \\\n",
       "34290  https://images.genius.com/1f61e7c20f3ec7d82362...   \n",
       "34291  https://images.genius.com/adbf27acc77a06acfa4a...   \n",
       "34292  https://images.genius.com/0e36e5abf5d93b95a6d8...   \n",
       "34293  https://images.genius.com/68c11c7f5b6b66194d77...   \n",
       "34294  https://images.genius.com/68c11c7f5b6b66194d77...   \n",
       "\n",
       "                                                  lyrics  \\\n",
       "34290  Words are flowing out like endless rain into a...   \n",
       "34291  They're gonna put me in the movies\\nThey're go...   \n",
       "34292  I read the news today, oh boy\\nAbout a lucky m...   \n",
       "34293  It's been a hard day's night\\nAnd I've been wo...   \n",
       "34294  Side 11. \\t\"A Hard Day's Night\"\\n2. \\t\"Tell Me...   \n",
       "\n",
       "                                                     raw  \\\n",
       "34290  {'annotation_count': 13, 'api_path': '/songs/1...   \n",
       "34291  {'annotation_count': 5, 'api_path': '/songs/12...   \n",
       "34292  {'annotation_count': 17, 'api_path': '/songs/1...   \n",
       "34293  {'annotation_count': 13, 'api_path': '/songs/1...   \n",
       "34294  {'annotation_count': 0, 'api_path': '/songs/14...   \n",
       "\n",
       "                                   title        year  \n",
       "34290                Across the Universe  1969-12-12  \n",
       "34291                      Act Naturally  1965-08-06  \n",
       "34292                  A Day in the Life  1967-06-01  \n",
       "34293                 A Hard Day's Night  1964-07-10  \n",
       "34294  A Hard Day's Night (U.S. version)        None  "
      ]
     },
     "execution_count": 5,
     "metadata": {},
     "output_type": "execute_result"
    }
   ],
   "source": [
    "artist.head()"
   ]
  },
  {
   "cell_type": "markdown",
   "metadata": {},
   "source": [
    "## Explore the data"
   ]
  },
  {
   "cell_type": "markdown",
   "metadata": {},
   "source": [
    "At the start of any analysis, it's helpful to visualize the data and get a rough sense for how they behave.\n",
    "\n",
    "For textual analyses, a few common metrics are `words_per_sample` and `word_frequency_distributions`"
   ]
  },
  {
   "cell_type": "code",
   "execution_count": 6,
   "metadata": {},
   "outputs": [
    {
     "name": "stdout",
     "output_type": "stream",
     "text": [
      "['rap' 'rock' 'country']\n"
     ]
    }
   ],
   "source": [
    "genres = songs.genre.unique()\n",
    "print(genres)"
   ]
  },
  {
   "cell_type": "code",
   "execution_count": 7,
   "metadata": {},
   "outputs": [],
   "source": [
    "import nltk\n",
    "from nltk.corpus import stopwords\n",
    "from string import punctuation\n",
    "punctuation = \"\".join([symbol for symbol in punctuation if symbol not in [\"'\", '\"']])\n",
    "\n",
    "# We'll use these helper functions throughout the analysis\n",
    "def clean_str(s):\n",
    "    return s.translate(str.maketrans('', '', punctuation)).replace('\\u200b', \" \").strip().lower()\n",
    "\n",
    "def tokenizeText(txt, remove_stop_words=True):\n",
    "    \"\"\"Splits a string of text into individual words\"\"\"\n",
    "    stop_words = set(stopwords.words('english')) if remove_stop_words else []\n",
    "    words = [w for w in clean_str(txt).split() if w not in stop_words]\n",
    "    return words"
   ]
  },
  {
   "cell_type": "markdown",
   "metadata": {},
   "source": [
    "### `words_per_song`\n",
    "In this analysis, each individual song can be considered a 'sample', i.e. `words_per_song` is equivalent to `words_per_sample`"
   ]
  },
  {
   "cell_type": "code",
   "execution_count": 8,
   "metadata": {},
   "outputs": [],
   "source": [
    "# Calculate words per song (i.e. sample) by genre\n",
    "def calcNumWordsInText(txt, remove_stop_words=True):\n",
    "    \"\"\"Return the number of words in a sample of text\"\"\"        \n",
    "    stop_words = set(stopwords.words('english')) if remove_stop_words else []\n",
    "    words = tokenizeText(txt)\n",
    "    return len([w for w in words if w not in stop_words])\n",
    "        \n",
    "words_per_song = {}\n",
    "for genre in genres:    \n",
    "    words_per_song[genre] = np.array([calcNumWordsInText(s, False) for s in songs[songs.genre==genre].lyrics])"
   ]
  },
  {
   "cell_type": "code",
   "execution_count": 27,
   "metadata": {},
   "outputs": [
    {
     "data": {
      "image/png": "[encoded data removed]",
      "text/plain": [
       "<Figure size 864x432 with 1 Axes>"
      ]
     },
     "metadata": {
      "needs_background": "light"
     },
     "output_type": "display_data"
    }
   ],
   "source": [
    "# Words per song by genre\n",
    "fig, ax = plt.subplots(figsize=(12, 6))\n",
    "colors = np.array([(182,109,255),(218,109,0),(0,146,146)])/255\n",
    "for genre, color in zip(genres, colors):\n",
    "    plt.hist(words_per_song[genre], 1000, color=color, alpha=0.5)\n",
    "    \n",
    "ax.set_xlim([0, 650])\n",
    "ax.set_xlabel(\"Words per song\", fontsize=fs)\n",
    "ax.set_ylabel(\"Number of songs\", fontsize=fs)\n",
    "plt.show()"
   ]
  },
  {
   "cell_type": "markdown",
   "metadata": {},
   "source": [
    "***Class Imbalance***\n",
    "\n",
    "This histogram also shows us that we have a bit of a class imbalance. There are about 20k song lyrics for rap and rock, but only 12k for country. If the number of samples between classes is too imbalanced when training a model, there's a risk the model will be improperly biased towards predicting certain genres over others. I don't think we have too bad of an imbalance, so I'm hoping we don't need to address the issue now.\n",
    "\n",
    "However, going forward, it may be helpful to account for this imbalance in our visualizations. One simple step we can use with the `plt.hist` command is to set the `density` option to `True`."
   ]
  },
  {
   "cell_type": "code",
   "execution_count": 28,
   "metadata": {},
   "outputs": [
    {
     "data": {
      "image/png": "[encoded data removed]",
      "text/plain": [
       "<Figure size 864x432 with 1 Axes>"
      ]
     },
     "metadata": {
      "needs_background": "light"
     },
     "output_type": "display_data"
    }
   ],
   "source": [
    "# Words per song by genre\n",
    "fig, ax = plt.subplots(figsize=(12, 6))\n",
    "for genre, color in zip(genres, colors):\n",
    "    plt.hist(words_per_song[genre], 1000, color=color, alpha=0.5, density=True, label=genre)\n",
    "    \n",
    "ax.set_xlim([0, 650])\n",
    "ax.set_xlabel(\"Number of words \", fontsize=fs)\n",
    "ax.set_title(\"Words per song for rap, rock, and country music\", fontsize=fs)\n",
    "ax.legend()\n",
    "plt.show()"
   ]
  },
  {
   "cell_type": "markdown",
   "metadata": {},
   "source": [
    "### `word_frequency_distributions`"
   ]
  },
  {
   "cell_type": "code",
   "execution_count": 11,
   "metadata": {},
   "outputs": [],
   "source": [
    "from sklearn.feature_extraction.text import CountVectorizer"
   ]
  },
  {
   "cell_type": "code",
   "execution_count": 23,
   "metadata": {},
   "outputs": [],
   "source": [
    "# What are the most popular words for each genre?\n",
    "def plot_freq_dist(sample_texts,\n",
    "                   ngram_range=(1, 2),\n",
    "                  num_ngrams=50,\n",
    "                  mfeats=None,\n",
    "                  color='b'):\n",
    "    \"\"\"Plots the frequency distribution of n-grams.\n",
    "    # Arguments\n",
    "        samples_texts: list, sample texts.\n",
    "        ngram_range: tuple (min, mplt), The range of n-gram values to consider.\n",
    "            Min and mplt are the lower and upper bound values for the range.\n",
    "        num_ngrams: int, number of n-grams to plot.\n",
    "            Top `num_ngrams` frequent n-grams will be plotted.\n",
    "    https://developers.google.com/machine-learning/guides/text-classification/step-2\n",
    "    \"\"\"\n",
    "    \n",
    "    # TEMPORARY - Shorten the list of texts\n",
    "#     sample_texts = sample_texts[:1000]\n",
    "    \n",
    "    # Create args required for vectorizing.\n",
    "    kwargs = {\n",
    "            'ngram_range': (1, 1),\n",
    "            'dtype': 'int32',\n",
    "            'strip_accents': 'unicode',\n",
    "            'decode_error': 'replace',\n",
    "            'max_features': mfeats,\n",
    "            'analyzer': 'word',  # Split text into word tokens.\n",
    "            'tokenizer': tokenizeText, # Custom tokenizer\n",
    "    }\n",
    "    vectorizer = CountVectorizer(**kwargs)\n",
    "    vectorized_texts = vectorizer.fit_transform(sample_texts)\n",
    "\n",
    "    # This is the list of all n-grams in the index order from the vocabulary.\n",
    "    all_ngrams = list(vectorizer.get_feature_names())\n",
    "    num_ngrams = min(num_ngrams, len(all_ngrams))\n",
    "\n",
    "    # Add up the counts per n-gram ie. column-wise\n",
    "    all_counts = vectorized_texts.sum(axis=0).tolist()[0]\n",
    "\n",
    "    # Sort n-grams and counts by frequency and get top `num_ngrams` ngrams.\n",
    "    all_counts, all_ngrams = zip(*[(c, n) for c, n in sorted(\n",
    "        zip(all_counts, all_ngrams), reverse=True)])\n",
    "    ngrams = list(all_ngrams)[:num_ngrams]\n",
    "    counts = list(all_counts)[:num_ngrams]\n",
    "        \n",
    "    # Make the graph\n",
    "    idx = np.arange(num_ngrams)\n",
    "    fig, ax = plt.subplots(figsize=(14,4))\n",
    "    ax.bar(idx, counts, width=0.8, color=color, alpha=0.5)\n",
    "    ax.set_ylabel('Frequencies')    \n",
    "    plt.xticks(idx, ngrams, rotation=45)"
   ]
  },
  {
   "cell_type": "markdown",
   "metadata": {},
   "source": [
    "Using the (slightly modified) code above taken from a [Google tutorial](https://developers.google.com/machine-learning/guides/text-classification/step-2) on text analysis, we can easily look at the ten most frequent words for each of the three genres."
   ]
  },
  {
   "cell_type": "code",
   "execution_count": 24,
   "metadata": {},
   "outputs": [
    {
     "data": {
      "image/png": "[encoded data removed]",
      "text/plain": [
       "<Figure size 1008x288 with 1 Axes>"
      ]
     },
     "metadata": {
      "needs_background": "light"
     },
     "output_type": "display_data"
    },
    {
     "data": {
      "image/png": "[encoded data removed]",
      "text/plain": [
       "<Figure size 1008x288 with 1 Axes>"
      ]
     },
     "metadata": {
      "needs_background": "light"
     },
     "output_type": "display_data"
    },
    {
     "data": {
      "image/png": "[encoded data removed]",
      "text/plain": [
       "<Figure size 1008x288 with 1 Axes>"
      ]
     },
     "metadata": {
      "needs_background": "light"
     },
     "output_type": "display_data"
    }
   ],
   "source": [
    "mf = 10\n",
    "for g, c in zip(genres, colors):\n",
    "    plot_freq_dist(songs[songs.genre==g].lyrics, color=c, mfeats=mf)\n",
    "    plt.title(f'Top {mf} most frequent words in {g} music', fontsize=fs)"
   ]
  },
  {
   "cell_type": "markdown",
   "metadata": {},
   "source": [
    "### Section summary\n",
    "By making these preliminary visualizations, we begin to get a sense for what features may be useful for differentiating between genres. For example, it looks like `words_per_song` may be helpful for identifying **rap** songs, but won't be all that useful for distinguishing between **rock** and **country** lyrics."
   ]
  },
  {
   "cell_type": "markdown",
   "metadata": {},
   "source": [
    "## Data Preparation"
   ]
  },
  {
   "cell_type": "markdown",
   "metadata": {},
   "source": [
    "### Vectorization\n",
    "We need to convert the raw text into numbers. We'll do this in two steps:\n",
    "  1. Tokenization\n",
    "  2. Encoding"
   ]
  },
  {
   "cell_type": "code",
   "execution_count": null,
   "metadata": {},
   "outputs": [],
   "source": [
    "\n",
    "\n",
    "\n",
    "\n",
    "\n",
    "\n",
    "\n",
    "\n"
   ]
  },
  {
   "cell_type": "markdown",
   "metadata": {},
   "source": [
    "# Review\n",
    " - What features are most useful for classifying genre? And for gender?"
   ]
  },
  {
   "cell_type": "code",
   "execution_count": null,
   "metadata": {},
   "outputs": [],
   "source": [
    "\n",
    "\n",
    "\n",
    "\n",
    "\n",
    "\n",
    "\n",
    "\n",
    "\n",
    "\n",
    "\n",
    "\n",
    "\n",
    "\n",
    "\n",
    "\n",
    "\n",
    "\n",
    "\n",
    "\n",
    "\n",
    "\n",
    "\n",
    "\n",
    "\n",
    "\n",
    "\n",
    "\n",
    "\n",
    "\n"
   ]
  }
 ],
 "metadata": {
  "kernelspec": {
   "display_name": "Python 3",
   "language": "python",
   "name": "python3"
  },
  "language_info": {
   "codemirror_mode": {
    "name": "ipython",
    "version": 3
   },
   "file_extension": ".py",
   "mimetype": "text/x-python",
   "name": "python",
   "nbconvert_exporter": "python",
   "pygments_lexer": "ipython3",
   "version": "3.6.5"
  }
 },
 "nbformat": 4,
 "nbformat_minor": 2
}
