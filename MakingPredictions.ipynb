{
 "cells": [
  {
   "cell_type": "markdown",
   "metadata": {},
   "source": [
    "# Making predictions\n",
    "Predicting artist gender and genre from song lyrics\n",
    "A follow-up to [*Trucks and Beer*](http://www.johnwmillr.com/trucks-and-beer/), my textual analysis of 12k+ country song lyrics\n",
    "\n",
    "---"
   ]
  },
  {
   "cell_type": "code",
   "execution_count": 1,
   "metadata": {},
   "outputs": [],
   "source": [
    "import numpy as np\n",
    "import pandas as pd\n",
    "import matplotlib.pyplot as plt\n",
    "import json\n",
    "import time\n",
    "import re\n",
    "from collections import Counter\n",
    "\n",
    "fs = 16 # fontsize"
   ]
  },
  {
   "cell_type": "markdown",
   "metadata": {},
   "source": [
    "---\n",
    "## Load the data"
   ]
  },
  {
   "cell_type": "code",
   "execution_count": 2,
   "metadata": {},
   "outputs": [],
   "source": [
    "songs = pd.read_json('./data/lyrics/all_songs.json')"
   ]
  },
  {
   "cell_type": "code",
   "execution_count": 3,
   "metadata": {},
   "outputs": [],
   "source": [
    "artist = songs[songs.artist=='The Beatles']"
   ]
  },
  {
   "cell_type": "code",
   "execution_count": 4,
   "metadata": {},
   "outputs": [
    {
     "data": {
      "text/html": [
       "<div>\n",
       "<style scoped>\n",
       "    .dataframe tbody tr th:only-of-type {\n",
       "        vertical-align: middle;\n",
       "    }\n",
       "\n",
       "    .dataframe tbody tr th {\n",
       "        vertical-align: top;\n",
       "    }\n",
       "\n",
       "    .dataframe thead th {\n",
       "        text-align: right;\n",
       "    }\n",
       "</style>\n",
       "<table border=\"1\" class=\"dataframe\">\n",
       "  <thead>\n",
       "    <tr style=\"text-align: right;\">\n",
       "      <th></th>\n",
       "      <th>album</th>\n",
       "      <th>artist</th>\n",
       "      <th>gender</th>\n",
       "      <th>genre</th>\n",
       "      <th>image</th>\n",
       "      <th>lyrics</th>\n",
       "      <th>raw</th>\n",
       "      <th>title</th>\n",
       "      <th>year</th>\n",
       "    </tr>\n",
       "  </thead>\n",
       "  <tbody>\n",
       "    <tr>\n",
       "      <th>34290</th>\n",
       "      <td>Let It Be</td>\n",
       "      <td>The Beatles</td>\n",
       "      <td>male</td>\n",
       "      <td>rock</td>\n",
       "      <td>https://images.genius.com/1f61e7c20f3ec7d82362...</td>\n",
       "      <td>Words are flowing out like endless rain into a...</td>\n",
       "      <td>{'annotation_count': 13, 'api_path': '/songs/1...</td>\n",
       "      <td>Across the Universe</td>\n",
       "      <td>1969-12-12</td>\n",
       "    </tr>\n",
       "    <tr>\n",
       "      <th>34291</th>\n",
       "      <td>Help!</td>\n",
       "      <td>The Beatles</td>\n",
       "      <td>male</td>\n",
       "      <td>rock</td>\n",
       "      <td>https://images.genius.com/adbf27acc77a06acfa4a...</td>\n",
       "      <td>They're gonna put me in the movies\\nThey're go...</td>\n",
       "      <td>{'annotation_count': 5, 'api_path': '/songs/12...</td>\n",
       "      <td>Act Naturally</td>\n",
       "      <td>1965-08-06</td>\n",
       "    </tr>\n",
       "    <tr>\n",
       "      <th>34292</th>\n",
       "      <td>Sgt. Pepper's Lonely Hearts Club Band</td>\n",
       "      <td>The Beatles</td>\n",
       "      <td>male</td>\n",
       "      <td>rock</td>\n",
       "      <td>https://images.genius.com/0e36e5abf5d93b95a6d8...</td>\n",
       "      <td>I read the news today, oh boy\\nAbout a lucky m...</td>\n",
       "      <td>{'annotation_count': 17, 'api_path': '/songs/1...</td>\n",
       "      <td>A Day in the Life</td>\n",
       "      <td>1967-06-01</td>\n",
       "    </tr>\n",
       "    <tr>\n",
       "      <th>34293</th>\n",
       "      <td>A Hard Day's Night</td>\n",
       "      <td>The Beatles</td>\n",
       "      <td>male</td>\n",
       "      <td>rock</td>\n",
       "      <td>https://images.genius.com/68c11c7f5b6b66194d77...</td>\n",
       "      <td>It's been a hard day's night\\nAnd I've been wo...</td>\n",
       "      <td>{'annotation_count': 13, 'api_path': '/songs/1...</td>\n",
       "      <td>A Hard Day's Night</td>\n",
       "      <td>1964-07-10</td>\n",
       "    </tr>\n",
       "    <tr>\n",
       "      <th>34294</th>\n",
       "      <td>A Hard Day's Night</td>\n",
       "      <td>The Beatles</td>\n",
       "      <td>male</td>\n",
       "      <td>rock</td>\n",
       "      <td>https://images.genius.com/68c11c7f5b6b66194d77...</td>\n",
       "      <td>Side 11. \\t\"A Hard Day's Night\"\\n2. \\t\"Tell Me...</td>\n",
       "      <td>{'annotation_count': 0, 'api_path': '/songs/14...</td>\n",
       "      <td>A Hard Day's Night (U.S. version)</td>\n",
       "      <td>None</td>\n",
       "    </tr>\n",
       "  </tbody>\n",
       "</table>\n",
       "</div>"
      ],
      "text/plain": [
       "                                       album       artist gender genre  \\\n",
       "34290                              Let It Be  The Beatles   male  rock   \n",
       "34291                                  Help!  The Beatles   male  rock   \n",
       "34292  Sgt. Pepper's Lonely Hearts Club Band  The Beatles   male  rock   \n",
       "34293                     A Hard Day's Night  The Beatles   male  rock   \n",
       "34294                     A Hard Day's Night  The Beatles   male  rock   \n",
       "\n",
       "                                                   image  \\\n",
       "34290  https://images.genius.com/1f61e7c20f3ec7d82362...   \n",
       "34291  https://images.genius.com/adbf27acc77a06acfa4a...   \n",
       "34292  https://images.genius.com/0e36e5abf5d93b95a6d8...   \n",
       "34293  https://images.genius.com/68c11c7f5b6b66194d77...   \n",
       "34294  https://images.genius.com/68c11c7f5b6b66194d77...   \n",
       "\n",
       "                                                  lyrics  \\\n",
       "34290  Words are flowing out like endless rain into a...   \n",
       "34291  They're gonna put me in the movies\\nThey're go...   \n",
       "34292  I read the news today, oh boy\\nAbout a lucky m...   \n",
       "34293  It's been a hard day's night\\nAnd I've been wo...   \n",
       "34294  Side 11. \\t\"A Hard Day's Night\"\\n2. \\t\"Tell Me...   \n",
       "\n",
       "                                                     raw  \\\n",
       "34290  {'annotation_count': 13, 'api_path': '/songs/1...   \n",
       "34291  {'annotation_count': 5, 'api_path': '/songs/12...   \n",
       "34292  {'annotation_count': 17, 'api_path': '/songs/1...   \n",
       "34293  {'annotation_count': 13, 'api_path': '/songs/1...   \n",
       "34294  {'annotation_count': 0, 'api_path': '/songs/14...   \n",
       "\n",
       "                                   title        year  \n",
       "34290                Across the Universe  1969-12-12  \n",
       "34291                      Act Naturally  1965-08-06  \n",
       "34292                  A Day in the Life  1967-06-01  \n",
       "34293                 A Hard Day's Night  1964-07-10  \n",
       "34294  A Hard Day's Night (U.S. version)        None  "
      ]
     },
     "execution_count": 4,
     "metadata": {},
     "output_type": "execute_result"
    }
   ],
   "source": [
    "artist.head()"
   ]
  },
  {
   "cell_type": "markdown",
   "metadata": {},
   "source": [
    "## Explore the data"
   ]
  },
  {
   "cell_type": "markdown",
   "metadata": {},
   "source": [
    "At the start of any analysis, it's helpful to visualize the data and get a rough sense for how they behave.\n",
    "\n",
    "For textual analyses, a few common metrics are `words_per_sample` and `word_frequency_distributions`"
   ]
  },
  {
   "cell_type": "code",
   "execution_count": 5,
   "metadata": {},
   "outputs": [
    {
     "name": "stdout",
     "output_type": "stream",
     "text": [
      "['rap' 'rock' 'country']\n"
     ]
    }
   ],
   "source": [
    "genres = songs.genre.unique()\n",
    "print(genres)"
   ]
  },
  {
   "cell_type": "code",
   "execution_count": 237,
   "metadata": {},
   "outputs": [],
   "source": [
    "import nltk\n",
    "from nltk.corpus import stopwords\n",
    "from string import punctuation\n",
    "punctuation = \"\".join([symbol for symbol in punctuation if symbol not in [\"'\", '\"']])\n",
    "\n",
    "# We'll use these helper functions throughout the analysis\n",
    "def clean_str(s):\n",
    "    return s.translate(str.maketrans('', '', punctuation)).replace('\\u200b', \" \").strip().lower()\n",
    "\n",
    "def tokenizeText(txt, remove_stop_words=False):\n",
    "    \"\"\"Splits a string of text into individual words\"\"\"\n",
    "    stop_words = set(stopwords.words('english')) if remove_stop_words else []\n",
    "    words = [w for w in clean_str(txt).split() if w not in stop_words]\n",
    "    return words\n",
    "\n",
    "#     regex = re.compile(r\"\\w+(?:[-']\\w+)*|'|[-.(]+|\\S\\w*\", re.IGNORECASE)\n",
    "#     return regex.findall(txt)"
   ]
  },
  {
   "cell_type": "markdown",
   "metadata": {},
   "source": [
    "### `words_per_song`\n",
    "In this analysis, each individual song can be considered a 'sample', i.e. `words_per_song` is equivalent to `words_per_sample`"
   ]
  },
  {
   "cell_type": "code",
   "execution_count": 9,
   "metadata": {},
   "outputs": [],
   "source": [
    "# Calculate words per song (i.e. sample) by genre\n",
    "def calcNumWordsInText(txt, remove_stop_words=True):\n",
    "    \"\"\"Return the number of words in a sample of text\"\"\"        \n",
    "    stop_words = set(stopwords.words('english')) if remove_stop_words else []\n",
    "    words = tokenizeText(txt)\n",
    "    return len([w for w in words if w not in stop_words])\n",
    "        \n",
    "words_per_song = {}\n",
    "for genre in genres:    \n",
    "    words_per_song[genre] = np.array([calcNumWordsInText(s, False) for s in songs[songs.genre==genre].lyrics])"
   ]
  },
  {
   "cell_type": "code",
   "execution_count": 10,
   "metadata": {},
   "outputs": [
    {
     "data": {
      "image/png": "[encoded data removed]",
      "text/plain": [
       "<Figure size 864x432 with 1 Axes>"
      ]
     },
     "metadata": {
      "needs_background": "light"
     },
     "output_type": "display_data"
    }
   ],
   "source": [
    "# Words per song by genre\n",
    "fig, ax = plt.subplots(figsize=(12, 6))\n",
    "colors = np.array([(182,109,255),(218,109,0),(0,146,146)])/255\n",
    "for genre, color in zip(genres, colors):\n",
    "    plt.hist(words_per_song[genre], 1000, color=color, alpha=0.5)\n",
    "    \n",
    "ax.set_xlim([0, 650])\n",
    "ax.set_xlabel(\"Words per song\", fontsize=fs)\n",
    "ax.set_ylabel(\"Number of songs\", fontsize=fs)\n",
    "plt.show()"
   ]
  },
  {
   "cell_type": "markdown",
   "metadata": {},
   "source": [
    "***Class Imbalance***\n",
    "\n",
    "This histogram also shows us that we have a bit of a class imbalance. There are about 20k song lyrics for rap and rock, but only 12k for country. If the number of samples between classes is too imbalanced when training a model, there's a risk the model will be improperly biased towards predicting certain genres over others. I don't think we have too bad of an imbalance, so I'm hoping we don't need to address the issue now.\n",
    "\n",
    "However, going forward, it may be helpful to account for this imbalance in our visualizations. One simple step we can use with the `plt.hist` command is to set the `density` option to `True`."
   ]
  },
  {
   "cell_type": "code",
   "execution_count": 11,
   "metadata": {},
   "outputs": [
    {
     "data": {
      "image/png": "[encoded data removed]",
      "text/plain": [
       "<Figure size 864x432 with 1 Axes>"
      ]
     },
     "metadata": {
      "needs_background": "light"
     },
     "output_type": "display_data"
    }
   ],
   "source": [
    "# Words per song by genre\n",
    "fig, ax = plt.subplots(figsize=(12, 6))\n",
    "for genre, color in zip(genres, colors):\n",
    "    plt.hist(words_per_song[genre], 1000, color=color, alpha=0.5, density=True, label=genre)\n",
    "    \n",
    "ax.set_xlim([0, 650])\n",
    "ax.set_xlabel(\"Number of words \", fontsize=fs)\n",
    "ax.set_title(\"Words per song for rap, rock, and country music\", fontsize=fs)\n",
    "ax.legend()\n",
    "plt.show()"
   ]
  },
  {
   "cell_type": "markdown",
   "metadata": {},
   "source": [
    "### `word_frequency_distributions`"
   ]
  },
  {
   "cell_type": "code",
   "execution_count": 12,
   "metadata": {},
   "outputs": [],
   "source": [
    "from sklearn.feature_extraction.text import CountVectorizer"
   ]
  },
  {
   "cell_type": "code",
   "execution_count": 13,
   "metadata": {},
   "outputs": [],
   "source": [
    "# What are the most popular words for each genre?\n",
    "def plot_freq_dist(sample_texts,\n",
    "                   ngram_range=(1, 2),\n",
    "                  num_ngrams=50,\n",
    "                  mfeats=None,\n",
    "                  color='b'):\n",
    "    \"\"\"Plots the frequency distribution of n-grams.\n",
    "    # Arguments\n",
    "        samples_texts: list, sample texts.\n",
    "        ngram_range: tuple (min, mplt), The range of n-gram values to consider.\n",
    "            Min and mplt are the lower and upper bound values for the range.\n",
    "        num_ngrams: int, number of n-grams to plot.\n",
    "            Top `num_ngrams` frequent n-grams will be plotted.\n",
    "    https://developers.google.com/machine-learning/guides/text-classification/step-2\n",
    "    \"\"\"\n",
    "    \n",
    "    # TEMPORARY - Shorten the list of texts\n",
    "#     sample_texts = sample_texts[:1000]\n",
    "    \n",
    "    # Create args required for vectorizing.\n",
    "    kwargs = {\n",
    "            'ngram_range': (1, 1),\n",
    "            'dtype': 'int32',\n",
    "            'strip_accents': 'unicode',\n",
    "            'decode_error': 'replace',\n",
    "            'max_features': mfeats,\n",
    "            'analyzer': 'word',  # Split text into word tokens.\n",
    "            'tokenizer': tokenizeText, # Custom tokenizer\n",
    "    }\n",
    "    vectorizer = CountVectorizer(**kwargs)\n",
    "    vectorized_texts = vectorizer.fit_transform(sample_texts)\n",
    "\n",
    "    # This is the list of all n-grams in the index order from the vocabulary.\n",
    "    all_ngrams = list(vectorizer.get_feature_names())\n",
    "    num_ngrams = min(num_ngrams, len(all_ngrams))\n",
    "\n",
    "    # Add up the counts per n-gram ie. column-wise\n",
    "    all_counts = vectorized_texts.sum(axis=0).tolist()[0]\n",
    "\n",
    "    # Sort n-grams and counts by frequency and get top `num_ngrams` ngrams.\n",
    "    all_counts, all_ngrams = zip(*[(c, n) for c, n in sorted(\n",
    "        zip(all_counts, all_ngrams), reverse=True)])\n",
    "    ngrams = list(all_ngrams)[:num_ngrams]\n",
    "    counts = list(all_counts)[:num_ngrams]\n",
    "        \n",
    "    # Make the graph\n",
    "    idx = np.arange(num_ngrams)\n",
    "    fig, ax = plt.subplots(figsize=(14,4))\n",
    "    ax.bar(idx, counts, width=0.8, color=color, alpha=0.5)\n",
    "    ax.set_ylabel('Frequencies')    \n",
    "    plt.xticks(idx, ngrams, rotation=45)"
   ]
  },
  {
   "cell_type": "markdown",
   "metadata": {},
   "source": [
    "Using the (slightly modified) code above taken from a [Google tutorial](https://developers.google.com/machine-learning/guides/text-classification/step-2) on text analysis, we can easily look at the ten most frequent words for each of the three genres."
   ]
  },
  {
   "cell_type": "code",
   "execution_count": 98,
   "metadata": {},
   "outputs": [
    {
     "data": {
      "image/png": "[encoded data removed]",
      "text/plain": [
       "<Figure size 1008x288 with 1 Axes>"
      ]
     },
     "metadata": {
      "needs_background": "light"
     },
     "output_type": "display_data"
    },
    {
     "data": {
      "image/png": "[encoded data removed]",
      "text/plain": [
       "<Figure size 1008x288 with 1 Axes>"
      ]
     },
     "metadata": {
      "needs_background": "light"
     },
     "output_type": "display_data"
    },
    {
     "data": {
      "image/png": "[encoded data removed]",
      "text/plain": [
       "<Figure size 1008x288 with 1 Axes>"
      ]
     },
     "metadata": {
      "needs_background": "light"
     },
     "output_type": "display_data"
    }
   ],
   "source": [
    "# Plot the most frequent words for each genre\n",
    "mf = 50 # number of words to plot\n",
    "for g, c in zip(genres, colors):\n",
    "    plot_freq_dist(songs[songs.genre==g].lyrics, color=c, mfeats=mf)\n",
    "    plt.title(f'Top {mf} most frequent words in {g} music', fontsize=fs)"
   ]
  },
  {
   "cell_type": "markdown",
   "metadata": {},
   "source": [
    "### Section summary\n",
    "By making these preliminary visualizations, we begin to get a sense for what features may be useful for differentiating between genres. For example, it looks like `words_per_song` may be helpful for identifying **rap** songs, but won't be all that useful for distinguishing between **rock** and **country** lyrics."
   ]
  },
  {
   "cell_type": "markdown",
   "metadata": {},
   "source": [
    "## Data Preparation"
   ]
  },
  {
   "cell_type": "markdown",
   "metadata": {},
   "source": [
    "### Vectorization\n",
    "We need to convert the raw text into numbers. We'll do this in two steps:\n",
    "  1. Tokenization\n",
    "  2. Encoding"
   ]
  },
  {
   "cell_type": "markdown",
   "metadata": {},
   "source": [
    "### Word embedding"
   ]
  },
  {
   "cell_type": "markdown",
   "metadata": {},
   "source": [
    "### TF-IDF\n",
    "I want a function that takes two inputs:\n",
    "  - Text of interest (e.g. rap lyrics)\n",
    "  - Full corpus (e.g. rap, rock, country lyrics)\n",
    "  \n",
    "and outputs the TF-IDF scores for the 100 terms with the highest TF-IDF scores"
   ]
  },
  {
   "cell_type": "code",
   "execution_count": 54,
   "metadata": {},
   "outputs": [],
   "source": [
    "def calcTFIDF(corpus, txt, term):\n",
    "    \"\"\"Return the tf-idf scores for a term in a text\"\"\"\n",
    "    # Tokenize the corpus and text of interest\n",
    "    \n",
    "#     tmp = list(map(tokenizeText, corpus))\n",
    "#     tok_corpus = []\n",
    "#     for item in tmp:\n",
    "#         tok_corpus.extend(item)\n",
    "        \n",
    "    doc_count = 0\n",
    "    for doc in corpus:\n",
    "        if term in doc:\n",
    "            doc_count += 1\n",
    "    \n",
    "    tmp = list(map(tokenizeText, txt))\n",
    "    tok_txt = []\n",
    "    for item in tmp:\n",
    "        tok_txt.extend(item)\n",
    "        \n",
    "    assert doc_count > 0, f\"Term '{term}' not found in corpus.\"\n",
    "#     print(tok_txt.count(term))\n",
    "#     print(doc_count)\n",
    "    return tok_txt.count(term) / doc_count"
   ]
  },
  {
   "cell_type": "code",
   "execution_count": 14,
   "metadata": {},
   "outputs": [],
   "source": [
    "# Create a small corpus for quick testing\n",
    "n = 10000\n",
    "small_songs = pd.concat([songs[songs.genre==genre].sample(n) for genre in genres])\n",
    "subset_rap = songs[songs.genre=='rap'].sample(n)\n",
    "subset_rock = songs[songs.genre=='rock'].sample(n)\n",
    "subset_country = songs[songs.genre=='country'].sample(n)"
   ]
  },
  {
   "cell_type": "code",
   "execution_count": 15,
   "metadata": {},
   "outputs": [
    {
     "data": {
      "text/html": [
       "<div>\n",
       "<style scoped>\n",
       "    .dataframe tbody tr th:only-of-type {\n",
       "        vertical-align: middle;\n",
       "    }\n",
       "\n",
       "    .dataframe tbody tr th {\n",
       "        vertical-align: top;\n",
       "    }\n",
       "\n",
       "    .dataframe thead th {\n",
       "        text-align: right;\n",
       "    }\n",
       "</style>\n",
       "<table border=\"1\" class=\"dataframe\">\n",
       "  <thead>\n",
       "    <tr style=\"text-align: right;\">\n",
       "      <th></th>\n",
       "      <th>album</th>\n",
       "      <th>artist</th>\n",
       "      <th>gender</th>\n",
       "      <th>genre</th>\n",
       "      <th>image</th>\n",
       "      <th>lyrics</th>\n",
       "      <th>raw</th>\n",
       "      <th>title</th>\n",
       "      <th>year</th>\n",
       "    </tr>\n",
       "  </thead>\n",
       "  <tbody>\n",
       "    <tr>\n",
       "      <th>7811</th>\n",
       "      <td>None</td>\n",
       "      <td>Big Pun</td>\n",
       "      <td>male</td>\n",
       "      <td>rap</td>\n",
       "      <td>https://images.genius.com/b245dff946be15239da7...</td>\n",
       "      <td>Ay-yo my murderous rap verbal attack is actual...</td>\n",
       "      <td>{'annotation_count': 5, 'api_path': '/songs/38...</td>\n",
       "      <td>Hot 97 freestyle</td>\n",
       "      <td>None</td>\n",
       "    </tr>\n",
       "    <tr>\n",
       "      <th>242</th>\n",
       "      <td>Gang Related - The Soundtrack</td>\n",
       "      <td>2Pac</td>\n",
       "      <td>male</td>\n",
       "      <td>rap</td>\n",
       "      <td>https://images.genius.com/7893982cf65937e95b38...</td>\n",
       "      <td>'Cause I hate to spend my life, my life, my li...</td>\n",
       "      <td>{'annotation_count': 10, 'api_path': '/songs/6...</td>\n",
       "      <td>Lost Souls</td>\n",
       "      <td>1997-10-07</td>\n",
       "    </tr>\n",
       "  </tbody>\n",
       "</table>\n",
       "</div>"
      ],
      "text/plain": [
       "                               album   artist gender genre  \\\n",
       "7811                            None  Big Pun   male   rap   \n",
       "242   Gang Related - The Soundtrack      2Pac   male   rap   \n",
       "\n",
       "                                                  image  \\\n",
       "7811  https://images.genius.com/b245dff946be15239da7...   \n",
       "242   https://images.genius.com/7893982cf65937e95b38...   \n",
       "\n",
       "                                                 lyrics  \\\n",
       "7811  Ay-yo my murderous rap verbal attack is actual...   \n",
       "242   'Cause I hate to spend my life, my life, my li...   \n",
       "\n",
       "                                                    raw             title  \\\n",
       "7811  {'annotation_count': 5, 'api_path': '/songs/38...  Hot 97 freestyle   \n",
       "242   {'annotation_count': 10, 'api_path': '/songs/6...        Lost Souls   \n",
       "\n",
       "            year  \n",
       "7811        None  \n",
       "242   1997-10-07  "
      ]
     },
     "execution_count": 15,
     "metadata": {},
     "output_type": "execute_result"
    }
   ],
   "source": [
    "small_songs.head(2)"
   ]
  },
  {
   "cell_type": "code",
   "execution_count": 95,
   "metadata": {},
   "outputs": [
    {
     "name": "stdout",
     "output_type": "stream",
     "text": [
      "------------------------------\n",
      "The TF-IDF score for 'beer' in rap music is: 0.300\n",
      "The TF-IDF score for 'beer' in roc music is: 0.210\n",
      "The TF-IDF score for 'beer' in cou music is: 1.074\n",
      "------------------------------\n",
      "The TF-IDF score for 'truck' in rap music is: 0.570\n",
      "The TF-IDF score for 'truck' in roc music is: 0.050\n",
      "The TF-IDF score for 'truck' in cou music is: 0.426\n",
      "------------------------------\n",
      "The TF-IDF score for 'girl' in rap music is: 1.122\n",
      "The TF-IDF score for 'girl' in roc music is: 0.519\n",
      "The TF-IDF score for 'girl' in cou music is: 0.549\n",
      "------------------------------\n",
      "The TF-IDF score for 'love' in rap music is: 0.846\n",
      "The TF-IDF score for 'love' in roc music is: 0.941\n",
      "The TF-IDF score for 'love' in cou music is: 1.109\n",
      "------------------------------\n",
      "The TF-IDF score for 'like' in rap music is: 3.014\n",
      "The TF-IDF score for 'like' in roc music is: 0.566\n",
      "The TF-IDF score for 'like' in cou music is: 0.638\n",
      "------------------------------\n",
      "The TF-IDF score for 'nigga' in rap music is: 3.899\n",
      "The TF-IDF score for 'nigga' in roc music is: 0.004\n",
      "The TF-IDF score for 'nigga' in cou music is: 0.000\n"
     ]
    }
   ],
   "source": [
    "# Sanity check the TF-IDF function\n",
    "for term in ['beer', 'truck', 'girl', 'love', 'like', 'nigga']:\n",
    "    print(30*'-')\n",
    "    for subset in [subset_rap, subset_rock, subset_country]:\n",
    "        tfidf = calcTFIDF(small_songs.lyrics, subset.lyrics, term)\n",
    "        genre = subset.genre.iloc[0][:3]\n",
    "        print(f\"The TF-IDF score for '{term}' in {genre} music is: {tfidf:.3f}\")"
   ]
  },
  {
   "cell_type": "code",
   "execution_count": 102,
   "metadata": {},
   "outputs": [],
   "source": [
    "tmp = list(map(tokenizeText, small_songs[small_songs.genre=='rap'].lyrics))\n",
    "tokens = []\n",
    "for item in tmp:\n",
    "    tokens.extend(item)"
   ]
  },
  {
   "cell_type": "code",
   "execution_count": 108,
   "metadata": {},
   "outputs": [
    {
     "data": {
      "text/plain": [
       "3.3072071368198253"
      ]
     },
     "execution_count": 108,
     "metadata": {},
     "output_type": "execute_result"
    }
   ],
   "source": [
    "100*len(set(tokens))/len(tokens)"
   ]
  },
  {
   "cell_type": "code",
   "execution_count": 109,
   "metadata": {},
   "outputs": [],
   "source": [
    "tmp = list(map(tokenizeText, small_songs[small_songs.genre=='country'].lyrics))\n",
    "tokens = []\n",
    "for item in tmp:\n",
    "    tokens.extend(item)"
   ]
  },
  {
   "cell_type": "code",
   "execution_count": 110,
   "metadata": {},
   "outputs": [
    {
     "data": {
      "text/plain": [
       "2.7344686487958096"
      ]
     },
     "execution_count": 110,
     "metadata": {},
     "output_type": "execute_result"
    }
   ],
   "source": [
    "100*len(set(tokens))/len(tokens)"
   ]
  },
  {
   "cell_type": "markdown",
   "metadata": {},
   "source": [
    "## gensim -- word2vec"
   ]
  },
  {
   "cell_type": "code",
   "execution_count": null,
   "metadata": {},
   "outputs": [],
   "source": [
    "from gensim.models import Word2Vec"
   ]
  },
  {
   "cell_type": "code",
   "execution_count": 125,
   "metadata": {},
   "outputs": [],
   "source": [
    "sentences = list(map(tokenizeText, small_songs[small_songs.genre=='rap'].lyrics))\n",
    "model = Word2Vec(sentences, min_count=1)"
   ]
  },
  {
   "cell_type": "code",
   "execution_count": 132,
   "metadata": {},
   "outputs": [
    {
     "data": {
      "text/plain": [
       "(12834931, 14079100)"
      ]
     },
     "execution_count": 132,
     "metadata": {},
     "output_type": "execute_result"
    }
   ],
   "source": [
    "model.train(sentences, total_examples=model.corpus_count, epochs=model.epochs)  # train word vectors"
   ]
  },
  {
   "cell_type": "code",
   "execution_count": 133,
   "metadata": {},
   "outputs": [],
   "source": [
    "model.save('wv_rap.model')"
   ]
  },
  {
   "cell_type": "code",
   "execution_count": null,
   "metadata": {},
   "outputs": [],
   "source": [
    "\n",
    "\n",
    "\n",
    "\n",
    "\n",
    "\n",
    "\n",
    "\n",
    "\n",
    "\n"
   ]
  },
  {
   "cell_type": "markdown",
   "metadata": {},
   "source": [
    "### Classification with NLTK"
   ]
  },
  {
   "cell_type": "code",
   "execution_count": 8,
   "metadata": {},
   "outputs": [],
   "source": [
    "import random"
   ]
  },
  {
   "cell_type": "code",
   "execution_count": 9,
   "metadata": {},
   "outputs": [],
   "source": [
    "# Create a subset of country and rap songs\n",
    "n = 5000\n",
    "tmp = []\n",
    "for genre in ['rap', 'country']:\n",
    "    tmp.append(songs[songs.genre==genre].sample(n))\n",
    "subset = pd.concat(tmp)"
   ]
  },
  {
   "cell_type": "code",
   "execution_count": 10,
   "metadata": {},
   "outputs": [],
   "source": [
    "# Tokenize the training text\n",
    "song_tokens = list(map(tokenizeText, subset.lyrics))\n",
    "tokens = [word for song in song_tokens for word in song]\n",
    "fd = nltk.FreqDist(tokens)\n",
    "n_features = 500\n",
    "word_features = [word for word, count in fd.most_common(n_features)]\n",
    "\n",
    "# Format the training data with genre labels\n",
    "documents = [(tokens, genre) for tokens, genre in zip(song_tokens, subset.genre)]\n",
    "random.shuffle(documents)\n",
    "\n",
    "# Extract features from a list of words\n",
    "def document_features(document):\n",
    "    document_words = set(document)\n",
    "    features = {}\n",
    "    for word in word_features:\n",
    "        features['contains({})'.format(word)] = (word in document_words)\n",
    "    return features"
   ]
  },
  {
   "cell_type": "code",
   "execution_count": 27,
   "metadata": {},
   "outputs": [],
   "source": [
    "# Train the classifier\n",
    "featuresets = [(document_features(d), c) for (d,c) in documents]\n",
    "idx_split = int(0.7 * len(featuresets))\n",
    "train_set, test_set = featuresets[:idx_split], featuresets[idx_split:]\n",
    "classifier = nltk.NaiveBayesClassifier.train(train_set)"
   ]
  },
  {
   "cell_type": "code",
   "execution_count": 28,
   "metadata": {},
   "outputs": [
    {
     "name": "stdout",
     "output_type": "stream",
     "text": [
      "0.9386666666666666\n"
     ]
    }
   ],
   "source": [
    "print(nltk.classify.accuracy(classifier, test_set))"
   ]
  },
  {
   "cell_type": "code",
   "execution_count": 259,
   "metadata": {
    "scrolled": true
   },
   "outputs": [
    {
     "name": "stdout",
     "output_type": "stream",
     "text": [
      "Death Row\n",
      "That's where mothafuckas is endin' up\n",
      "\n",
      "Dear Mama, I'm caught up in this sickness\n",
      "I robbed my adversaries but slipped and left a witness\n",
      "Wonder if they'll catch me or will this nigga snitch?\n",
      "Should I shoot his bitch or make the nigga rich?\n",
      "Don't wanna commit murder, but damn, they got me trapped\n",
      "Hawkin' while I'm walkin' and talkin' behind my back\n",
      "I'm kind of schizophrenic, I'm in this shit to win it\n",
      "‘Cause life's a Wheel of Fortune, here's my chance to spin it\n",
      "Got no time for cops who trip and try to catch me\n",
      "Too fuckin' trigger-happy to let them suckers snatch me\n",
      "Niggas gettin' jealous, tryin' to find my stash\n",
      "Whip out the 9, now  pump yo' ass\n",
      "Peter picked a pepper, but I can pick a punk\n",
      "Snatched him like a bitch and threw him in the trunk\n",
      "The punk thought I was bluffin', but swear I'm nothin' nice\n",
      "Before I take your life, first wrestle with these mites\n",
      "I listened to his screams until he went insane\n",
      "I guess the little mites had finally found his brain\n",
      "New Rovers pull me over, I'm sentenced to the pen\n",
      "Remember that little bird? He snitched and told a friend\n",
      "It's trouble on my mind, I'm with the old-timers\n",
      "And fuck five-0! Blaow, blaow! Turn 'em into forty-niners\n",
      "\n",
      "Bye bye, I was never meant to live\n",
      "Can't be positive when the ghetto's where you live\n",
      "Bye bye, I was never meant to be\n",
      "Livin' like a thief, runnin' through the streets\n",
      "Bye bye, and I got no place to go\n",
      "Where they find me; 16 on Death Row\n",
      "\n",
      "Dear Mama, these cops don't understand me\n",
      "I turned to a life of crime ‘cause I came from a broken family\n",
      "My uncle used to touch me, I never told you that\n",
      "Scared what you might do, I couldn't hold you back\n",
      "I kept it deep inside, I done let it fuel my anger\n",
      "I'm down for all my homies, no mercy for a stranger\n",
      "The brother in my cell is 16 as well\n",
      "It's hard to adapt when you're black\n",
      "And you're trapped in a living hell\n",
      "I shouldn't have let him catch me\n",
      "Instead of livin' sad in jail I coulda died free and happy\n",
      "And my cellmate's raped on the norm\n",
      "And passed around the dorm\n",
      "You can hear his asshole gettin' torn\n",
      "They made me an animal\n",
      "Can't sleep, instead of countin' sheep, niggas countin' cannibals\n",
      "And that's how it is in the pen\n",
      "Turn old and cold and your soul is your best friend\n",
      "My mama, pray for me\n",
      "Tell the Lord to make way for me, prepare any day for me\n",
      "(Why?) ‘Cause when they come for me they find a struggler\n",
      "To the death I take the breath from your jugular\n",
      "The trick is to never lose hope\n",
      "I found my buddy hangin' dead from a rope; 16 on Death Row\n",
      "\n",
      "Bye bye, I was never meant to live\n",
      "Can't be positive when the ghetto's where you live\n",
      "Bye bye, I was never meant to be\n",
      "Livin' like a thief, runnin' through the streets\n",
      "Bye bye, and I got no place to go\n",
      "Where they find me; 16 on Death Row\n",
      "\n",
      "Dear Mama, they sentenced me to death\n",
      "Today's my final day, I'm countin' every breath\n",
      "I'm bitter ‘cause I'm dyin', so much I haven't seen\n",
      "I know you never dreamed your baby would be dead at 16\n",
      "I got beef with a sick society\n",
      "That doesn't give a shit and they too quick to say goodbye to me\n",
      "They tell me the preacher's there for me\n",
      "He's a crook with a book, that mothafucka never cared for me\n",
      "He's only here to be sure I don't drop a dime to God\n",
      "About the crimes he's committin' on the poor\n",
      "And how can these people judge me?\n",
      "They ain't my peers, and in all these years they ain't never love me\n",
      "I never got to be a man\n",
      "Must be part of some big plan to keep a nigga in the state pen\n",
      "And to my homies out buryin' mothafuckas\n",
      "Steer clear of these Aryan mothafuckas\n",
      "‘Cause once they got you locked up\n",
      "They got you trapped, you're better off gettin' shot up\n",
      "I'm convinced, self-defense is the way\n",
      "Please stay strapped, pack a gat every day\n",
      "I wish I woulda known while I was out there\n",
      "Now I'm straight headin' for the chair\n",
      "\n",
      "Bye bye, I was never meant to live\n",
      "Can't be positive when the ghetto's where you live\n",
      "Bye bye, I was never meant to be\n",
      "Livin' like a thief, runnin' through the streets\n",
      "Bye bye, and I got no place to go\n",
      "Where they find me; 16 on Death Row\n",
      "\n",
      "16 on Death Row, Death Row\n",
      "Death Row, Death Row\n",
      "16 on Death Row, Death Row, Death Row\n",
      "It's to all my partners\n",
      "In the penitentiaries; 16 on Death Row\n"
     ]
    }
   ],
   "source": [
    "print(songs.loc[0, 'lyrics'])"
   ]
  },
  {
   "cell_type": "code",
   "execution_count": 258,
   "metadata": {},
   "outputs": [
    {
     "data": {
      "text/plain": [
       "'rap'"
      ]
     },
     "execution_count": 258,
     "metadata": {},
     "output_type": "execute_result"
    }
   ],
   "source": [
    "classifier.classify(document_features(tokenizeText(songs.loc[0, 'lyrics'])))"
   ]
  },
  {
   "cell_type": "code",
   "execution_count": 257,
   "metadata": {},
   "outputs": [
    {
     "data": {
      "image/png": "[encoded data removed]",
      "text/plain": [
       "<Figure size 432x288 with 1 Axes>"
      ]
     },
     "metadata": {
      "needs_background": "light"
     },
     "output_type": "display_data"
    }
   ],
   "source": [
    "fd.plot(10, cumulative=True)"
   ]
  },
  {
   "cell_type": "code",
   "execution_count": 256,
   "metadata": {},
   "outputs": [
    {
     "name": "stdout",
     "output_type": "stream",
     "text": [
      "Most Informative Features\n",
      "       contains(bitches) = True              rap : countr =    591.2 : 1.0\n",
      "           contains(rap) = True              rap : countr =    450.6 : 1.0\n",
      "         contains(i'mma) = True              rap : countr =    345.6 : 1.0\n",
      "       contains(fucking) = True              rap : countr =    334.4 : 1.0\n",
      "          contains(gon') = True              rap : countr =    211.2 : 1.0\n",
      "          contains(shit) = True              rap : countr =    197.6 : 1.0\n",
      "         contains(bitch) = True              rap : countr =    178.9 : 1.0\n",
      "            contains(ho) = True              rap : countr =    154.7 : 1.0\n",
      "         contains(gucci) = True              rap : countr =    151.5 : 1.0\n",
      "          contains(dope) = True              rap : countr =    146.0 : 1.0\n"
     ]
    }
   ],
   "source": [
    "classifier.show_most_informative_features(10)"
   ]
  },
  {
   "cell_type": "markdown",
   "metadata": {},
   "source": [
    "## Feature Extraction with sklearn"
   ]
  },
  {
   "cell_type": "code",
   "execution_count": 178,
   "metadata": {},
   "outputs": [],
   "source": [
    "from sklearn.feature_extraction.text import CountVectorizer"
   ]
  },
  {
   "cell_type": "code",
   "execution_count": 238,
   "metadata": {},
   "outputs": [],
   "source": [
    "bigram_vectorizer = CountVectorizer(ngram_range=(1, 2), min_df=1, tokenizer=tokenizeText)\n",
    "bigram_analyze = bigram_vectorizer.build_analyzer()"
   ]
  },
  {
   "cell_type": "code",
   "execution_count": 240,
   "metadata": {},
   "outputs": [
    {
     "data": {
      "text/plain": [
       "['death',\n",
       " 'row',\n",
       " \"that's\",\n",
       " 'where',\n",
       " 'mothafuckas',\n",
       " 'is',\n",
       " \"endin'\",\n",
       " 'up',\n",
       " 'dear',\n",
       " 'mama',\n",
       " \"i'm\",\n",
       " 'caught',\n",
       " 'up',\n",
       " 'in',\n",
       " 'this',\n",
       " 'sickness',\n",
       " 'i',\n",
       " 'robbed',\n",
       " 'my',\n",
       " 'adversaries',\n",
       " 'but',\n",
       " 'slipped',\n",
       " 'and',\n",
       " 'left',\n",
       " 'a',\n",
       " 'witness',\n",
       " 'wonder',\n",
       " 'if',\n",
       " \"they'll\",\n",
       " 'catch',\n",
       " 'me',\n",
       " 'or',\n",
       " 'will',\n",
       " 'this',\n",
       " 'nigga',\n",
       " 'snitch',\n",
       " 'should',\n",
       " 'i',\n",
       " 'shoot',\n",
       " 'his',\n",
       " 'bitch',\n",
       " 'or',\n",
       " 'make',\n",
       " 'the',\n",
       " 'nigga',\n",
       " 'rich',\n",
       " \"don't\",\n",
       " 'wanna',\n",
       " 'commit',\n",
       " 'murder',\n",
       " 'but',\n",
       " 'damn',\n",
       " 'they',\n",
       " 'got',\n",
       " 'me',\n",
       " 'trapped',\n",
       " \"hawkin'\",\n",
       " 'while',\n",
       " \"i'm\",\n",
       " \"walkin'\",\n",
       " 'and',\n",
       " \"talkin'\",\n",
       " 'behind',\n",
       " 'my',\n",
       " 'back',\n",
       " \"i'm\",\n",
       " 'kind',\n",
       " 'of',\n",
       " 'schizophrenic',\n",
       " \"i'm\",\n",
       " 'in',\n",
       " 'this',\n",
       " 'shit',\n",
       " 'to',\n",
       " 'win',\n",
       " 'it',\n",
       " '‘cause',\n",
       " \"life's\",\n",
       " 'a',\n",
       " 'wheel',\n",
       " 'of',\n",
       " 'fortune',\n",
       " \"here's\",\n",
       " 'my',\n",
       " 'chance',\n",
       " 'to',\n",
       " 'spin',\n",
       " 'it',\n",
       " 'got',\n",
       " 'no',\n",
       " 'time',\n",
       " 'for',\n",
       " 'cops',\n",
       " 'who',\n",
       " 'trip',\n",
       " 'and',\n",
       " 'try',\n",
       " 'to',\n",
       " 'catch',\n",
       " 'me',\n",
       " 'too',\n",
       " \"fuckin'\",\n",
       " 'triggerhappy',\n",
       " 'to',\n",
       " 'let',\n",
       " 'them',\n",
       " 'suckers',\n",
       " 'snatch',\n",
       " 'me',\n",
       " 'niggas',\n",
       " \"gettin'\",\n",
       " 'jealous',\n",
       " \"tryin'\",\n",
       " 'to',\n",
       " 'find',\n",
       " 'my',\n",
       " 'stash',\n",
       " 'whip',\n",
       " 'out',\n",
       " 'the',\n",
       " '9',\n",
       " 'now',\n",
       " 'pump',\n",
       " \"yo'\",\n",
       " 'ass',\n",
       " 'peter',\n",
       " 'picked',\n",
       " 'a',\n",
       " 'pepper',\n",
       " 'but',\n",
       " 'i',\n",
       " 'can',\n",
       " 'pick',\n",
       " 'a',\n",
       " 'punk',\n",
       " 'snatched',\n",
       " 'him',\n",
       " 'like',\n",
       " 'a',\n",
       " 'bitch',\n",
       " 'and',\n",
       " 'threw',\n",
       " 'him',\n",
       " 'in',\n",
       " 'the',\n",
       " 'trunk',\n",
       " 'the',\n",
       " 'punk',\n",
       " 'thought',\n",
       " 'i',\n",
       " 'was',\n",
       " \"bluffin'\",\n",
       " 'but',\n",
       " 'swear',\n",
       " \"i'm\",\n",
       " \"nothin'\",\n",
       " 'nice',\n",
       " 'before',\n",
       " 'i',\n",
       " 'take',\n",
       " 'your',\n",
       " 'life',\n",
       " 'first',\n",
       " 'wrestle',\n",
       " 'with',\n",
       " 'these',\n",
       " 'mites',\n",
       " 'i',\n",
       " 'listened',\n",
       " 'to',\n",
       " 'his',\n",
       " 'screams',\n",
       " 'until',\n",
       " 'he',\n",
       " 'went',\n",
       " 'insane',\n",
       " 'i',\n",
       " 'guess',\n",
       " 'the',\n",
       " 'little',\n",
       " 'mites',\n",
       " 'had',\n",
       " 'finally',\n",
       " 'found',\n",
       " 'his',\n",
       " 'brain',\n",
       " 'new',\n",
       " 'rovers',\n",
       " 'pull',\n",
       " 'me',\n",
       " 'over',\n",
       " \"i'm\",\n",
       " 'sentenced',\n",
       " 'to',\n",
       " 'the',\n",
       " 'pen',\n",
       " 'remember',\n",
       " 'that',\n",
       " 'little',\n",
       " 'bird',\n",
       " 'he',\n",
       " 'snitched',\n",
       " 'and',\n",
       " 'told',\n",
       " 'a',\n",
       " 'friend',\n",
       " \"it's\",\n",
       " 'trouble',\n",
       " 'on',\n",
       " 'my',\n",
       " 'mind',\n",
       " \"i'm\",\n",
       " 'with',\n",
       " 'the',\n",
       " 'oldtimers',\n",
       " 'and',\n",
       " 'fuck',\n",
       " 'five0',\n",
       " 'blaow',\n",
       " 'blaow',\n",
       " 'turn',\n",
       " \"'em\",\n",
       " 'into',\n",
       " 'fortyniners',\n",
       " 'bye',\n",
       " 'bye',\n",
       " 'i',\n",
       " 'was',\n",
       " 'never',\n",
       " 'meant',\n",
       " 'to',\n",
       " 'live',\n",
       " \"can't\",\n",
       " 'be',\n",
       " 'positive',\n",
       " 'when',\n",
       " 'the',\n",
       " \"ghetto's\",\n",
       " 'where',\n",
       " 'you',\n",
       " 'live',\n",
       " 'bye',\n",
       " 'bye',\n",
       " 'i',\n",
       " 'was',\n",
       " 'never',\n",
       " 'meant',\n",
       " 'to',\n",
       " 'be',\n",
       " \"livin'\",\n",
       " 'like',\n",
       " 'a',\n",
       " 'thief',\n",
       " \"runnin'\",\n",
       " 'through',\n",
       " 'the',\n",
       " 'streets',\n",
       " 'bye',\n",
       " 'bye',\n",
       " 'and',\n",
       " 'i',\n",
       " 'got',\n",
       " 'no',\n",
       " 'place',\n",
       " 'to',\n",
       " 'go',\n",
       " 'where',\n",
       " 'they',\n",
       " 'find',\n",
       " 'me',\n",
       " '16',\n",
       " 'on',\n",
       " 'death',\n",
       " 'row',\n",
       " 'dear',\n",
       " 'mama',\n",
       " 'these',\n",
       " 'cops',\n",
       " \"don't\",\n",
       " 'understand',\n",
       " 'me',\n",
       " 'i',\n",
       " 'turned',\n",
       " 'to',\n",
       " 'a',\n",
       " 'life',\n",
       " 'of',\n",
       " 'crime',\n",
       " '‘cause',\n",
       " 'i',\n",
       " 'came',\n",
       " 'from',\n",
       " 'a',\n",
       " 'broken',\n",
       " 'family',\n",
       " 'my',\n",
       " 'uncle',\n",
       " 'used',\n",
       " 'to',\n",
       " 'touch',\n",
       " 'me',\n",
       " 'i',\n",
       " 'never',\n",
       " 'told',\n",
       " 'you',\n",
       " 'that',\n",
       " 'scared',\n",
       " 'what',\n",
       " 'you',\n",
       " 'might',\n",
       " 'do',\n",
       " 'i',\n",
       " \"couldn't\",\n",
       " 'hold',\n",
       " 'you',\n",
       " 'back',\n",
       " 'i',\n",
       " 'kept',\n",
       " 'it',\n",
       " 'deep',\n",
       " 'inside',\n",
       " 'i',\n",
       " 'done',\n",
       " 'let',\n",
       " 'it',\n",
       " 'fuel',\n",
       " 'my',\n",
       " 'anger',\n",
       " \"i'm\",\n",
       " 'down',\n",
       " 'for',\n",
       " 'all',\n",
       " 'my',\n",
       " 'homies',\n",
       " 'no',\n",
       " 'mercy',\n",
       " 'for',\n",
       " 'a',\n",
       " 'stranger',\n",
       " 'the',\n",
       " 'brother',\n",
       " 'in',\n",
       " 'my',\n",
       " 'cell',\n",
       " 'is',\n",
       " '16',\n",
       " 'as',\n",
       " 'well',\n",
       " \"it's\",\n",
       " 'hard',\n",
       " 'to',\n",
       " 'adapt',\n",
       " 'when',\n",
       " \"you're\",\n",
       " 'black',\n",
       " 'and',\n",
       " \"you're\",\n",
       " 'trapped',\n",
       " 'in',\n",
       " 'a',\n",
       " 'living',\n",
       " 'hell',\n",
       " 'i',\n",
       " \"shouldn't\",\n",
       " 'have',\n",
       " 'let',\n",
       " 'him',\n",
       " 'catch',\n",
       " 'me',\n",
       " 'instead',\n",
       " 'of',\n",
       " \"livin'\",\n",
       " 'sad',\n",
       " 'in',\n",
       " 'jail',\n",
       " 'i',\n",
       " 'coulda',\n",
       " 'died',\n",
       " 'free',\n",
       " 'and',\n",
       " 'happy',\n",
       " 'and',\n",
       " 'my',\n",
       " \"cellmate's\",\n",
       " 'raped',\n",
       " 'on',\n",
       " 'the',\n",
       " 'norm',\n",
       " 'and',\n",
       " 'passed',\n",
       " 'around',\n",
       " 'the',\n",
       " 'dorm',\n",
       " 'you',\n",
       " 'can',\n",
       " 'hear',\n",
       " 'his',\n",
       " 'asshole',\n",
       " \"gettin'\",\n",
       " 'torn',\n",
       " 'they',\n",
       " 'made',\n",
       " 'me',\n",
       " 'an',\n",
       " 'animal',\n",
       " \"can't\",\n",
       " 'sleep',\n",
       " 'instead',\n",
       " 'of',\n",
       " \"countin'\",\n",
       " 'sheep',\n",
       " 'niggas',\n",
       " \"countin'\",\n",
       " 'cannibals',\n",
       " 'and',\n",
       " \"that's\",\n",
       " 'how',\n",
       " 'it',\n",
       " 'is',\n",
       " 'in',\n",
       " 'the',\n",
       " 'pen',\n",
       " 'turn',\n",
       " 'old',\n",
       " 'and',\n",
       " 'cold',\n",
       " 'and',\n",
       " 'your',\n",
       " 'soul',\n",
       " 'is',\n",
       " 'your',\n",
       " 'best',\n",
       " 'friend',\n",
       " 'my',\n",
       " 'mama',\n",
       " 'pray',\n",
       " 'for',\n",
       " 'me',\n",
       " 'tell',\n",
       " 'the',\n",
       " 'lord',\n",
       " 'to',\n",
       " 'make',\n",
       " 'way',\n",
       " 'for',\n",
       " 'me',\n",
       " 'prepare',\n",
       " 'any',\n",
       " 'day',\n",
       " 'for',\n",
       " 'me',\n",
       " 'why',\n",
       " '‘cause',\n",
       " 'when',\n",
       " 'they',\n",
       " 'come',\n",
       " 'for',\n",
       " 'me',\n",
       " 'they',\n",
       " 'find',\n",
       " 'a',\n",
       " 'struggler',\n",
       " 'to',\n",
       " 'the',\n",
       " 'death',\n",
       " 'i',\n",
       " 'take',\n",
       " 'the',\n",
       " 'breath',\n",
       " 'from',\n",
       " 'your',\n",
       " 'jugular',\n",
       " 'the',\n",
       " 'trick',\n",
       " 'is',\n",
       " 'to',\n",
       " 'never',\n",
       " 'lose',\n",
       " 'hope',\n",
       " 'i',\n",
       " 'found',\n",
       " 'my',\n",
       " 'buddy',\n",
       " \"hangin'\",\n",
       " 'dead',\n",
       " 'from',\n",
       " 'a',\n",
       " 'rope',\n",
       " '16',\n",
       " 'on',\n",
       " 'death',\n",
       " 'row',\n",
       " 'bye',\n",
       " 'bye',\n",
       " 'i',\n",
       " 'was',\n",
       " 'never',\n",
       " 'meant',\n",
       " 'to',\n",
       " 'live',\n",
       " \"can't\",\n",
       " 'be',\n",
       " 'positive',\n",
       " 'when',\n",
       " 'the',\n",
       " \"ghetto's\",\n",
       " 'where',\n",
       " 'you',\n",
       " 'live',\n",
       " 'bye',\n",
       " 'bye',\n",
       " 'i',\n",
       " 'was',\n",
       " 'never',\n",
       " 'meant',\n",
       " 'to',\n",
       " 'be',\n",
       " \"livin'\",\n",
       " 'like',\n",
       " 'a',\n",
       " 'thief',\n",
       " \"runnin'\",\n",
       " 'through',\n",
       " 'the',\n",
       " 'streets',\n",
       " 'bye',\n",
       " 'bye',\n",
       " 'and',\n",
       " 'i',\n",
       " 'got',\n",
       " 'no',\n",
       " 'place',\n",
       " 'to',\n",
       " 'go',\n",
       " 'where',\n",
       " 'they',\n",
       " 'find',\n",
       " 'me',\n",
       " '16',\n",
       " 'on',\n",
       " 'death',\n",
       " 'row',\n",
       " 'dear',\n",
       " 'mama',\n",
       " 'they',\n",
       " 'sentenced',\n",
       " 'me',\n",
       " 'to',\n",
       " 'death',\n",
       " \"today's\",\n",
       " 'my',\n",
       " 'final',\n",
       " 'day',\n",
       " \"i'm\",\n",
       " \"countin'\",\n",
       " 'every',\n",
       " 'breath',\n",
       " \"i'm\",\n",
       " 'bitter',\n",
       " '‘cause',\n",
       " \"i'm\",\n",
       " \"dyin'\",\n",
       " 'so',\n",
       " 'much',\n",
       " 'i',\n",
       " \"haven't\",\n",
       " 'seen',\n",
       " 'i',\n",
       " 'know',\n",
       " 'you',\n",
       " 'never',\n",
       " 'dreamed',\n",
       " 'your',\n",
       " 'baby',\n",
       " 'would',\n",
       " 'be',\n",
       " 'dead',\n",
       " 'at',\n",
       " '16',\n",
       " 'i',\n",
       " 'got',\n",
       " 'beef',\n",
       " 'with',\n",
       " 'a',\n",
       " 'sick',\n",
       " 'society',\n",
       " 'that',\n",
       " \"doesn't\",\n",
       " 'give',\n",
       " 'a',\n",
       " 'shit',\n",
       " 'and',\n",
       " 'they',\n",
       " 'too',\n",
       " 'quick',\n",
       " 'to',\n",
       " 'say',\n",
       " 'goodbye',\n",
       " 'to',\n",
       " 'me',\n",
       " 'they',\n",
       " 'tell',\n",
       " 'me',\n",
       " 'the',\n",
       " \"preacher's\",\n",
       " 'there',\n",
       " 'for',\n",
       " 'me',\n",
       " \"he's\",\n",
       " 'a',\n",
       " 'crook',\n",
       " 'with',\n",
       " 'a',\n",
       " 'book',\n",
       " 'that',\n",
       " 'mothafucka',\n",
       " 'never',\n",
       " 'cared',\n",
       " 'for',\n",
       " 'me',\n",
       " \"he's\",\n",
       " 'only',\n",
       " 'here',\n",
       " 'to',\n",
       " 'be',\n",
       " 'sure',\n",
       " 'i',\n",
       " \"don't\",\n",
       " 'drop',\n",
       " 'a',\n",
       " 'dime',\n",
       " 'to',\n",
       " 'god',\n",
       " 'about',\n",
       " 'the',\n",
       " 'crimes',\n",
       " \"he's\",\n",
       " \"committin'\",\n",
       " 'on',\n",
       " 'the',\n",
       " 'poor',\n",
       " 'and',\n",
       " 'how',\n",
       " 'can',\n",
       " 'these',\n",
       " 'people',\n",
       " 'judge',\n",
       " 'me',\n",
       " 'they',\n",
       " \"ain't\",\n",
       " 'my',\n",
       " 'peers',\n",
       " 'and',\n",
       " 'in',\n",
       " 'all',\n",
       " 'these',\n",
       " 'years',\n",
       " 'they',\n",
       " \"ain't\",\n",
       " 'never',\n",
       " 'love',\n",
       " 'me',\n",
       " 'i',\n",
       " 'never',\n",
       " 'got',\n",
       " 'to',\n",
       " 'be',\n",
       " 'a',\n",
       " 'man',\n",
       " 'must',\n",
       " 'be',\n",
       " 'part',\n",
       " 'of',\n",
       " 'some',\n",
       " 'big',\n",
       " 'plan',\n",
       " 'to',\n",
       " 'keep',\n",
       " 'a',\n",
       " 'nigga',\n",
       " 'in',\n",
       " 'the',\n",
       " 'state',\n",
       " 'pen',\n",
       " 'and',\n",
       " 'to',\n",
       " 'my',\n",
       " 'homies',\n",
       " 'out',\n",
       " \"buryin'\",\n",
       " 'mothafuckas',\n",
       " 'steer',\n",
       " 'clear',\n",
       " 'of',\n",
       " 'these',\n",
       " 'aryan',\n",
       " 'mothafuckas',\n",
       " '‘cause',\n",
       " 'once',\n",
       " 'they',\n",
       " 'got',\n",
       " 'you',\n",
       " 'locked',\n",
       " 'up',\n",
       " 'they',\n",
       " 'got',\n",
       " 'you',\n",
       " 'trapped',\n",
       " \"you're\",\n",
       " 'better',\n",
       " 'off',\n",
       " \"gettin'\",\n",
       " 'shot',\n",
       " 'up',\n",
       " \"i'm\",\n",
       " 'convinced',\n",
       " 'selfdefense',\n",
       " 'is',\n",
       " 'the',\n",
       " 'way',\n",
       " 'please',\n",
       " 'stay',\n",
       " 'strapped',\n",
       " 'pack',\n",
       " 'a',\n",
       " 'gat',\n",
       " 'every',\n",
       " 'day',\n",
       " 'i',\n",
       " 'wish',\n",
       " 'i',\n",
       " 'woulda',\n",
       " 'known',\n",
       " 'while',\n",
       " 'i',\n",
       " 'was',\n",
       " 'out',\n",
       " 'there',\n",
       " 'now',\n",
       " \"i'm\",\n",
       " 'straight',\n",
       " \"headin'\",\n",
       " 'for',\n",
       " 'the',\n",
       " 'chair',\n",
       " 'bye',\n",
       " 'bye',\n",
       " 'i',\n",
       " 'was',\n",
       " 'never',\n",
       " 'meant',\n",
       " 'to',\n",
       " 'live',\n",
       " \"can't\",\n",
       " 'be',\n",
       " 'positive',\n",
       " 'when',\n",
       " 'the',\n",
       " \"ghetto's\",\n",
       " 'where',\n",
       " 'you',\n",
       " 'live',\n",
       " 'bye',\n",
       " 'bye',\n",
       " 'i',\n",
       " 'was',\n",
       " 'never',\n",
       " 'meant',\n",
       " 'to',\n",
       " 'be',\n",
       " \"livin'\",\n",
       " 'like',\n",
       " 'a',\n",
       " 'thief',\n",
       " \"runnin'\",\n",
       " 'through',\n",
       " 'the',\n",
       " 'streets',\n",
       " 'bye',\n",
       " 'bye',\n",
       " 'and',\n",
       " 'i',\n",
       " 'got',\n",
       " 'no',\n",
       " 'place',\n",
       " 'to',\n",
       " 'go',\n",
       " 'where',\n",
       " 'they',\n",
       " 'find',\n",
       " 'me',\n",
       " '16',\n",
       " 'on',\n",
       " 'death',\n",
       " 'row',\n",
       " '16',\n",
       " 'on',\n",
       " 'death',\n",
       " 'row',\n",
       " 'death',\n",
       " 'row',\n",
       " 'death',\n",
       " 'row',\n",
       " 'death',\n",
       " 'row',\n",
       " '16',\n",
       " 'on',\n",
       " 'death',\n",
       " 'row',\n",
       " 'death',\n",
       " 'row',\n",
       " 'death',\n",
       " 'row',\n",
       " \"it's\",\n",
       " 'to',\n",
       " 'all',\n",
       " 'my',\n",
       " 'partners',\n",
       " 'in',\n",
       " 'the',\n",
       " 'penitentiaries',\n",
       " '16',\n",
       " 'on',\n",
       " 'death',\n",
       " 'row',\n",
       " 'death row',\n",
       " \"row that's\",\n",
       " \"that's where\",\n",
       " 'where mothafuckas',\n",
       " 'mothafuckas is',\n",
       " \"is endin'\",\n",
       " \"endin' up\",\n",
       " 'up dear',\n",
       " 'dear mama',\n",
       " \"mama i'm\",\n",
       " \"i'm caught\",\n",
       " 'caught up',\n",
       " 'up in',\n",
       " 'in this',\n",
       " 'this sickness',\n",
       " 'sickness i',\n",
       " 'i robbed',\n",
       " 'robbed my',\n",
       " 'my adversaries',\n",
       " 'adversaries but',\n",
       " 'but slipped',\n",
       " 'slipped and',\n",
       " 'and left',\n",
       " 'left a',\n",
       " 'a witness',\n",
       " 'witness wonder',\n",
       " 'wonder if',\n",
       " \"if they'll\",\n",
       " \"they'll catch\",\n",
       " 'catch me',\n",
       " 'me or',\n",
       " 'or will',\n",
       " 'will this',\n",
       " 'this nigga',\n",
       " 'nigga snitch',\n",
       " 'snitch should',\n",
       " 'should i',\n",
       " 'i shoot',\n",
       " 'shoot his',\n",
       " 'his bitch',\n",
       " 'bitch or',\n",
       " 'or make',\n",
       " 'make the',\n",
       " 'the nigga',\n",
       " 'nigga rich',\n",
       " \"rich don't\",\n",
       " \"don't wanna\",\n",
       " 'wanna commit',\n",
       " 'commit murder',\n",
       " 'murder but',\n",
       " 'but damn',\n",
       " 'damn they',\n",
       " 'they got',\n",
       " 'got me',\n",
       " 'me trapped',\n",
       " \"trapped hawkin'\",\n",
       " \"hawkin' while\",\n",
       " \"while i'm\",\n",
       " \"i'm walkin'\",\n",
       " \"walkin' and\",\n",
       " \"and talkin'\",\n",
       " \"talkin' behind\",\n",
       " 'behind my',\n",
       " 'my back',\n",
       " \"back i'm\",\n",
       " \"i'm kind\",\n",
       " 'kind of',\n",
       " 'of schizophrenic',\n",
       " \"schizophrenic i'm\",\n",
       " \"i'm in\",\n",
       " 'in this',\n",
       " 'this shit',\n",
       " 'shit to',\n",
       " 'to win',\n",
       " 'win it',\n",
       " 'it ‘cause',\n",
       " \"‘cause life's\",\n",
       " \"life's a\",\n",
       " 'a wheel',\n",
       " 'wheel of',\n",
       " 'of fortune',\n",
       " \"fortune here's\",\n",
       " \"here's my\",\n",
       " 'my chance',\n",
       " 'chance to',\n",
       " 'to spin',\n",
       " 'spin it',\n",
       " 'it got',\n",
       " 'got no',\n",
       " 'no time',\n",
       " 'time for',\n",
       " 'for cops',\n",
       " 'cops who',\n",
       " 'who trip',\n",
       " 'trip and',\n",
       " 'and try',\n",
       " 'try to',\n",
       " 'to catch',\n",
       " 'catch me',\n",
       " 'me too',\n",
       " \"too fuckin'\",\n",
       " \"fuckin' triggerhappy\",\n",
       " 'triggerhappy to',\n",
       " 'to let',\n",
       " 'let them',\n",
       " 'them suckers',\n",
       " 'suckers snatch',\n",
       " 'snatch me',\n",
       " 'me niggas',\n",
       " \"niggas gettin'\",\n",
       " \"gettin' jealous\",\n",
       " \"jealous tryin'\",\n",
       " \"tryin' to\",\n",
       " 'to find',\n",
       " 'find my',\n",
       " 'my stash',\n",
       " 'stash whip',\n",
       " 'whip out',\n",
       " 'out the',\n",
       " 'the 9',\n",
       " '9 now',\n",
       " 'now pump',\n",
       " \"pump yo'\",\n",
       " \"yo' ass\",\n",
       " 'ass peter',\n",
       " 'peter picked',\n",
       " 'picked a',\n",
       " 'a pepper',\n",
       " 'pepper but',\n",
       " 'but i',\n",
       " 'i can',\n",
       " 'can pick',\n",
       " 'pick a',\n",
       " 'a punk',\n",
       " 'punk snatched',\n",
       " 'snatched him',\n",
       " 'him like',\n",
       " 'like a',\n",
       " 'a bitch',\n",
       " 'bitch and',\n",
       " 'and threw',\n",
       " 'threw him',\n",
       " 'him in',\n",
       " 'in the',\n",
       " 'the trunk',\n",
       " 'trunk the',\n",
       " 'the punk',\n",
       " 'punk thought',\n",
       " 'thought i',\n",
       " 'i was',\n",
       " \"was bluffin'\",\n",
       " \"bluffin' but\",\n",
       " 'but swear',\n",
       " \"swear i'm\",\n",
       " \"i'm nothin'\",\n",
       " \"nothin' nice\",\n",
       " 'nice before',\n",
       " 'before i',\n",
       " 'i take',\n",
       " 'take your',\n",
       " 'your life',\n",
       " 'life first',\n",
       " 'first wrestle',\n",
       " 'wrestle with',\n",
       " 'with these',\n",
       " 'these mites',\n",
       " 'mites i',\n",
       " 'i listened',\n",
       " 'listened to',\n",
       " 'to his',\n",
       " 'his screams',\n",
       " 'screams until',\n",
       " 'until he',\n",
       " 'he went',\n",
       " 'went insane',\n",
       " ...]"
      ]
     },
     "execution_count": 240,
     "metadata": {},
     "output_type": "execute_result"
    }
   ],
   "source": [
    "bigram_analyze(songs.loc[0, 'lyrics'])"
   ]
  },
  {
   "cell_type": "markdown",
   "metadata": {},
   "source": [
    "### Creating a lyrics corpus\n",
    "As we're hoping to classify rap and country songs, it'd be convenient to create a subset of lyrics that is cleaned up and ready to use for training and testing our model. Once we're happy with the model parameters, we can train and test the model on the entire dataset"
   ]
  },
  {
   "cell_type": "code",
   "execution_count": 343,
   "metadata": {},
   "outputs": [],
   "source": [
    "# Create a subset of randomly sampled country and rap songs\n",
    "n = 250\n",
    "tmp = []\n",
    "for genre in ['rap', 'country']:\n",
    "    tmp.append(songs[songs.genre==genre].sample(n))\n",
    "subset = pd.concat(tmp)\n",
    "\n",
    "# Create the lyrics corpus with genre and index labels\n",
    "corpus = []\n",
    "for lyrics, genre, index in zip(subset.lyrics, subset.genre, subset.index):\n",
    "    corpus.append((lyrics, genre, index))\n",
    "random.shuffle(corpus)"
   ]
  },
  {
   "cell_type": "code",
   "execution_count": 351,
   "metadata": {},
   "outputs": [
    {
     "data": {
      "text/plain": [
       "(500, 92551)"
      ]
     },
     "execution_count": 351,
     "metadata": {},
     "output_type": "execute_result"
    }
   ],
   "source": [
    "X = bigram_vectorizer.fit_transform([doc[0] for doc in corpus]).toarray()\n",
    "X.shape"
   ]
  },
  {
   "cell_type": "code",
   "execution_count": 352,
   "metadata": {},
   "outputs": [
    {
     "data": {
      "text/plain": [
       "array([[0, 0, 0, ..., 0, 0, 0],\n",
       "       [0, 0, 0, ..., 0, 0, 0],\n",
       "       [0, 0, 0, ..., 0, 0, 0],\n",
       "       ...,\n",
       "       [0, 0, 0, ..., 0, 0, 0],\n",
       "       [0, 0, 0, ..., 0, 0, 0],\n",
       "       [0, 0, 0, ..., 0, 0, 0]], dtype=int64)"
      ]
     },
     "execution_count": 352,
     "metadata": {},
     "output_type": "execute_result"
    }
   ],
   "source": [
    "X"
   ]
  },
  {
   "cell_type": "markdown",
   "metadata": {},
   "source": [
    "### TF-IDF with Scikitlearn"
   ]
  },
  {
   "cell_type": "code",
   "execution_count": 280,
   "metadata": {},
   "outputs": [
    {
     "data": {
      "text/plain": [
       "TfidfTransformer(norm='l2', smooth_idf=False, sublinear_tf=False,\n",
       "         use_idf=True)"
      ]
     },
     "execution_count": 280,
     "metadata": {},
     "output_type": "execute_result"
    }
   ],
   "source": [
    "from sklearn.feature_extraction.text import TfidfTransformer\n",
    "transformer = TfidfTransformer(smooth_idf=False)\n",
    "transformer  "
   ]
  },
  {
   "cell_type": "code",
   "execution_count": null,
   "metadata": {},
   "outputs": [],
   "source": []
  },
  {
   "cell_type": "code",
   "execution_count": 353,
   "metadata": {},
   "outputs": [
    {
     "data": {
      "text/plain": [
       "<500x92551 sparse matrix of type '<class 'numpy.float64'>'\n",
       "\twith 212391 stored elements in Compressed Sparse Row format>"
      ]
     },
     "execution_count": 353,
     "metadata": {},
     "output_type": "execute_result"
    }
   ],
   "source": [
    "# counts = [[3, 0, 1],\n",
    "#           [2, 0, 0],\n",
    "#           [3, 0, 0],\n",
    "#           [4, 0, 0],\n",
    "#           [3, 2, 0],\n",
    "#           [3, 0, 2]]\n",
    "\n",
    "counts = X.copy()\n",
    "tfidf = transformer.fit_transform(counts)\n",
    "tfidf                         \n",
    "\n",
    "# tfidf.toarray()  "
   ]
  },
  {
   "cell_type": "code",
   "execution_count": 356,
   "metadata": {},
   "outputs": [
    {
     "data": {
      "text/plain": [
       "array([0.        , 0.00159373, 0.00164575, ..., 0.75001679, 0.78151628,\n",
       "       0.81001107])"
      ]
     },
     "execution_count": 356,
     "metadata": {},
     "output_type": "execute_result"
    }
   ],
   "source": [
    "np.unique(tfidf.toarray())"
   ]
  },
  {
   "cell_type": "markdown",
   "metadata": {},
   "source": [
    "Luckily, `tf-idf` text processing is common enough that `scikit-learn` provides a single class that combines both vectorization and transformation"
   ]
  },
  {
   "cell_type": "code",
   "execution_count": 282,
   "metadata": {},
   "outputs": [],
   "source": [
    "from sklearn.feature_extraction.text import TfidfVectorizer"
   ]
  },
  {
   "cell_type": "code",
   "execution_count": 357,
   "metadata": {},
   "outputs": [
    {
     "data": {
      "text/plain": [
       "<500x11612 sparse matrix of type '<class 'numpy.float64'>'\n",
       "\twith 75749 stored elements in Compressed Sparse Row format>"
      ]
     },
     "execution_count": 357,
     "metadata": {},
     "output_type": "execute_result"
    }
   ],
   "source": [
    "vectorizer = TfidfVectorizer()\n",
    "vectorizer.fit_transform([song[0] for song in corpus])"
   ]
  },
  {
   "cell_type": "code",
   "execution_count": 358,
   "metadata": {},
   "outputs": [],
   "source": [
    "# Feature names\n",
    "feature_names = np.asarray(vectorizer.get_feature_names())"
   ]
  },
  {
   "cell_type": "markdown",
   "metadata": {},
   "source": [
    "## Train a classifier\n",
    "We'll start by training a random forest classifier, a robust model that should provide quite good accuracy without too much fiddling with hyperparameters."
   ]
  },
  {
   "cell_type": "code",
   "execution_count": 298,
   "metadata": {},
   "outputs": [],
   "source": [
    "from sklearn.ensemble import RandomForestClassifier"
   ]
  },
  {
   "cell_type": "markdown",
   "metadata": {},
   "source": [
    "### Prepare the training and testing data\n",
    "Before we can train the the model we need to prepare a set of training and testing data."
   ]
  },
  {
   "cell_type": "code",
   "execution_count": 377,
   "metadata": {},
   "outputs": [],
   "source": [
    "a,b = zip(*[(song[1], song[2]) for song in corpus[:3]])"
   ]
  },
  {
   "cell_type": "code",
   "execution_count": 382,
   "metadata": {},
   "outputs": [],
   "source": [
    "# The corpus was shuffled upon creation, so it's okay to separate train/test sequentially\n",
    "idx_split = int(0.70 * len(corpus))\n",
    "X_train, y_train = zip(*[(analyze(song[0]), song[1]) for song in corpus[:3]])"
   ]
  },
  {
   "cell_type": "code",
   "execution_count": 299,
   "metadata": {},
   "outputs": [],
   "source": [
    "clf = RandomForestClassifier(n_estimators=50)"
   ]
  },
  {
   "cell_type": "code",
   "execution_count": null,
   "metadata": {},
   "outputs": [],
   "source": [
    "clf.fit"
   ]
  },
  {
   "cell_type": "code",
   "execution_count": null,
   "metadata": {},
   "outputs": [],
   "source": []
  },
  {
   "cell_type": "markdown",
   "metadata": {},
   "source": [
    "---\n",
    "## Notes"
   ]
  },
  {
   "cell_type": "markdown",
   "metadata": {},
   "source": [
    "I could frame this post in part as an extension of this [Pudding piece](https://pudding.cool/2017/09/hip-hop-words/) on the most typical hip-hop words. They identified words that were unique to different genres, but didn't use that information to *train a classifier*"
   ]
  },
  {
   "cell_type": "markdown",
   "metadata": {},
   "source": [
    "I should compare my performance to other papers:\n",
    "  - https://arxiv.org/abs/1707.04678\n",
    "  - https://nlp.stanford.edu/courses/cs224n/2006/fp/sadovsky-x1n9-1-224n_final_report.pdf\n",
    "  - https://github.com/ianscottknight/Musical-Genre-Classification-of-Song-Lyrics"
   ]
  },
  {
   "cell_type": "markdown",
   "metadata": {},
   "source": [
    "sklearn tutorial on optimizing the classifier hyperparameter tuning: http://scikit-learn.org/stable/auto_examples/model_selection/grid_search_text_feature_extraction.html#sphx-glr-auto-examples-model-selection-grid-search-text-feature-extraction-py"
   ]
  },
  {
   "cell_type": "code",
   "execution_count": null,
   "metadata": {},
   "outputs": [],
   "source": [
    "\n",
    "\n",
    "\n",
    "\n",
    "\n",
    "\n",
    "\n"
   ]
  },
  {
   "cell_type": "markdown",
   "metadata": {},
   "source": [
    "# Review\n",
    " - What features are most useful for classifying genre? And for gender?"
   ]
  },
  {
   "cell_type": "code",
   "execution_count": null,
   "metadata": {},
   "outputs": [],
   "source": [
    "\n",
    "\n",
    "\n",
    "\n",
    "\n",
    "\n",
    "\n",
    "\n",
    "\n",
    "\n",
    "\n",
    "\n",
    "\n",
    "\n",
    "\n",
    "\n",
    "\n",
    "\n",
    "\n",
    "\n",
    "\n",
    "\n",
    "\n",
    "\n",
    "\n",
    "\n",
    "\n",
    "\n",
    "\n",
    "\n"
   ]
  },
  {
   "cell_type": "code",
   "execution_count": 255,
   "metadata": {},
   "outputs": [
    {
     "data": {
      "text/plain": [
       "(501, 117032)"
      ]
     },
     "execution_count": 255,
     "metadata": {},
     "output_type": "execute_result"
    }
   ],
   "source": [
    "X.shape"
   ]
  },
  {
   "cell_type": "code",
   "execution_count": 249,
   "metadata": {},
   "outputs": [],
   "source": [
    "C = X"
   ]
  },
  {
   "cell_type": "code",
   "execution_count": 248,
   "metadata": {},
   "outputs": [],
   "source": [
    "F = X.copy()"
   ]
  },
  {
   "cell_type": "code",
   "execution_count": 250,
   "metadata": {},
   "outputs": [],
   "source": [
    "del(X)"
   ]
  }
 ],
 "metadata": {
  "kernelspec": {
   "display_name": "Python 3",
   "language": "python",
   "name": "python3"
  },
  "language_info": {
   "codemirror_mode": {
    "name": "ipython",
    "version": 3
   },
   "file_extension": ".py",
   "mimetype": "text/x-python",
   "name": "python",
   "nbconvert_exporter": "python",
   "pygments_lexer": "ipython3",
   "version": "3.6.5"
  }
 },
 "nbformat": 4,
 "nbformat_minor": 2
}
